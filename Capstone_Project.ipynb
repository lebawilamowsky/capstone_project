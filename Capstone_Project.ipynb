{
 "cells": [
  {
   "cell_type": "code",
   "execution_count": 1,
   "metadata": {},
   "outputs": [],
   "source": [
    "import pandas as pd"
   ]
  },
  {
   "cell_type": "code",
   "execution_count": 2,
   "metadata": {},
   "outputs": [
    {
     "name": "stderr",
     "output_type": "stream",
     "text": [
      "/Users/lebawilamowsky/opt/anaconda3/lib/python3.8/site-packages/IPython/core/interactiveshell.py:3071: DtypeWarning: Columns (0,19,49,59,118,129,130,131,134,135,136,139,145,146,147) have mixed types.Specify dtype option on import or set low_memory=False.\n",
      "  has_raised = await self.run_ast_nodes(code_ast.body, cell_name,\n"
     ]
    }
   ],
   "source": [
    "data=pd.read_csv('accepted_2007_to_2018Q4.csv')"
   ]
  },
  {
   "cell_type": "code",
   "execution_count": null,
   "metadata": {},
   "outputs": [],
   "source": [
    "#data cleaning"
   ]
  },
  {
   "cell_type": "code",
   "execution_count": 3,
   "metadata": {},
   "outputs": [],
   "source": [
    "data=data[(data['loan_status']=='Fully Paid')| (data['loan_status']=='Charged Off')]"
   ]
  },
  {
   "cell_type": "code",
   "execution_count": 4,
   "metadata": {},
   "outputs": [
    {
     "data": {
      "text/plain": [
       "(1345310, 151)"
      ]
     },
     "execution_count": 4,
     "metadata": {},
     "output_type": "execute_result"
    }
   ],
   "source": [
    "data.shape"
   ]
  },
  {
   "cell_type": "code",
   "execution_count": 5,
   "metadata": {},
   "outputs": [],
   "source": [
    "data=data[data['funded_amnt_inv']==data['loan_amnt']]"
   ]
  },
  {
   "cell_type": "code",
   "execution_count": 6,
   "metadata": {},
   "outputs": [
    {
     "data": {
      "text/plain": [
       "(1230694, 151)"
      ]
     },
     "execution_count": 6,
     "metadata": {},
     "output_type": "execute_result"
    }
   ],
   "source": [
    "data.shape"
   ]
  },
  {
   "cell_type": "code",
   "execution_count": 7,
   "metadata": {},
   "outputs": [],
   "source": [
    "#columns that are known at loan origination and MAY be useful for model\n",
    "data=data[['acc_open_past_24mths','addr_state','all_util','annual_inc','application_type','avg_cur_bal',\n",
    "           'delinq_2yrs','dti','emp_length',\n",
    "      'fico_range_high','fico_range_low','funded_amnt_inv','grade','home_ownership', \n",
    "      'inq_fi','initial_list_status','inq_last_12m','inq_last_6mths','installment','int_rate',\n",
    "      'issue_d','loan_amnt','loan_status','mo_sin_old_il_acct', 'mo_sin_old_rev_tl_op',\n",
    "           'mths_since_last_delinq',\n",
    "      'mths_since_last_major_derog','mths_since_last_record','mths_since_rcnt_il','mths_since_recent_bc',\n",
    "      'mths_since_recent_bc_dlq','mths_since_recent_inq','mths_since_recent_revol_delinq','mort_acc',\n",
    "      'num_accts_ever_120_pd','num_actv_bc_tl','num_actv_rev_tl','num_bc_sats','num_bc_tl',\n",
    "      'num_il_tl','num_op_rev_tl','num_rev_accts','num_rev_tl_bal_gt_0','num_sats','num_tl_90g_dpd_24m',\n",
    "      'num_tl_op_past_12m','open_acc','open_acc_6m','open_il_12m','open_il_24m','open_act_il',\n",
    "      'open_rv_12m','open_rv_24m','pct_tl_nvr_dlq','percent_bc_gt_75','revol_bal','revol_util',\n",
    "      'pub_rec','pub_rec_bankruptcies','purpose','sub_grade','tax_liens','term','tot_coll_amt',\n",
    "      'total_acc','total_pymnt_inv','total_cu_tl','verification_status']]\n",
    "      "
   ]
  },
  {
   "cell_type": "code",
   "execution_count": 8,
   "metadata": {},
   "outputs": [
    {
     "data": {
      "text/plain": [
       "(1230694, 68)"
      ]
     },
     "execution_count": 8,
     "metadata": {},
     "output_type": "execute_result"
    }
   ],
   "source": [
    "data.shape"
   ]
  },
  {
   "cell_type": "code",
   "execution_count": 9,
   "metadata": {},
   "outputs": [],
   "source": [
    "data = data.sort_values(by='issue_d')"
   ]
  },
  {
   "cell_type": "code",
   "execution_count": 10,
   "metadata": {},
   "outputs": [
    {
     "data": {
      "text/html": [
       "<div>\n",
       "<style scoped>\n",
       "    .dataframe tbody tr th:only-of-type {\n",
       "        vertical-align: middle;\n",
       "    }\n",
       "\n",
       "    .dataframe tbody tr th {\n",
       "        vertical-align: top;\n",
       "    }\n",
       "\n",
       "    .dataframe thead th {\n",
       "        text-align: right;\n",
       "    }\n",
       "</style>\n",
       "<table border=\"1\" class=\"dataframe\">\n",
       "  <thead>\n",
       "    <tr style=\"text-align: right;\">\n",
       "      <th></th>\n",
       "      <th>issue_d</th>\n",
       "    </tr>\n",
       "  </thead>\n",
       "  <tbody>\n",
       "    <tr>\n",
       "      <th>447195</th>\n",
       "      <td>Mar-2018</td>\n",
       "    </tr>\n",
       "    <tr>\n",
       "      <th>117152</th>\n",
       "      <td>Oct-2015</td>\n",
       "    </tr>\n",
       "    <tr>\n",
       "      <th>1127749</th>\n",
       "      <td>Nov-2014</td>\n",
       "    </tr>\n",
       "    <tr>\n",
       "      <th>1320655</th>\n",
       "      <td>Mar-2014</td>\n",
       "    </tr>\n",
       "    <tr>\n",
       "      <th>1643488</th>\n",
       "      <td>Mar-2010</td>\n",
       "    </tr>\n",
       "  </tbody>\n",
       "</table>\n",
       "</div>"
      ],
      "text/plain": [
       "          issue_d\n",
       "447195   Mar-2018\n",
       "117152   Oct-2015\n",
       "1127749  Nov-2014\n",
       "1320655  Mar-2014\n",
       "1643488  Mar-2010"
      ]
     },
     "execution_count": 10,
     "metadata": {},
     "output_type": "execute_result"
    }
   ],
   "source": [
    "data[['issue_d']].sample(5)"
   ]
  },
  {
   "cell_type": "code",
   "execution_count": 11,
   "metadata": {},
   "outputs": [
    {
     "data": {
      "text/plain": [
       "dtype('O')"
      ]
     },
     "execution_count": 11,
     "metadata": {},
     "output_type": "execute_result"
    }
   ],
   "source": [
    "data['issue_d'].dtypes"
   ]
  },
  {
   "cell_type": "code",
   "execution_count": 12,
   "metadata": {},
   "outputs": [
    {
     "data": {
      "text/plain": [
       "1650791    Apr-2008\n",
       "1650758    Apr-2008\n",
       "1650749    Apr-2008\n",
       "1650743    Apr-2008\n",
       "1650739    Apr-2008\n",
       "1650723    Apr-2008\n",
       "1648733    Apr-2009\n",
       "1648869    Apr-2009\n",
       "1648852    Apr-2009\n",
       "1648837    Apr-2009\n",
       "Name: issue_d, dtype: object"
      ]
     },
     "execution_count": 12,
     "metadata": {},
     "output_type": "execute_result"
    }
   ],
   "source": [
    "data['issue_d'].head(10)"
   ]
  },
  {
   "cell_type": "code",
   "execution_count": 13,
   "metadata": {},
   "outputs": [],
   "source": [
    "data['year']=data['issue_d'].astype(str).str[-4:]"
   ]
  },
  {
   "cell_type": "code",
   "execution_count": 14,
   "metadata": {},
   "outputs": [
    {
     "data": {
      "text/html": [
       "<div>\n",
       "<style scoped>\n",
       "    .dataframe tbody tr th:only-of-type {\n",
       "        vertical-align: middle;\n",
       "    }\n",
       "\n",
       "    .dataframe tbody tr th {\n",
       "        vertical-align: top;\n",
       "    }\n",
       "\n",
       "    .dataframe thead th {\n",
       "        text-align: right;\n",
       "    }\n",
       "</style>\n",
       "<table border=\"1\" class=\"dataframe\">\n",
       "  <thead>\n",
       "    <tr style=\"text-align: right;\">\n",
       "      <th></th>\n",
       "      <th>issue_d</th>\n",
       "      <th>year</th>\n",
       "    </tr>\n",
       "  </thead>\n",
       "  <tbody>\n",
       "    <tr>\n",
       "      <th>245989</th>\n",
       "      <td>Jun-2015</td>\n",
       "      <td>2015</td>\n",
       "    </tr>\n",
       "    <tr>\n",
       "      <th>1058653</th>\n",
       "      <td>Feb-2016</td>\n",
       "      <td>2016</td>\n",
       "    </tr>\n",
       "    <tr>\n",
       "      <th>875879</th>\n",
       "      <td>Jul-2018</td>\n",
       "      <td>2018</td>\n",
       "    </tr>\n",
       "    <tr>\n",
       "      <th>2021738</th>\n",
       "      <td>Jul-2016</td>\n",
       "      <td>2016</td>\n",
       "    </tr>\n",
       "    <tr>\n",
       "      <th>1838488</th>\n",
       "      <td>Jun-2013</td>\n",
       "      <td>2013</td>\n",
       "    </tr>\n",
       "    <tr>\n",
       "      <th>1776147</th>\n",
       "      <td>Nov-2013</td>\n",
       "      <td>2013</td>\n",
       "    </tr>\n",
       "    <tr>\n",
       "      <th>144306</th>\n",
       "      <td>Sep-2015</td>\n",
       "      <td>2015</td>\n",
       "    </tr>\n",
       "    <tr>\n",
       "      <th>1333195</th>\n",
       "      <td>Feb-2014</td>\n",
       "      <td>2014</td>\n",
       "    </tr>\n",
       "    <tr>\n",
       "      <th>979621</th>\n",
       "      <td>Apr-2017</td>\n",
       "      <td>2017</td>\n",
       "    </tr>\n",
       "    <tr>\n",
       "      <th>1154026</th>\n",
       "      <td>Nov-2014</td>\n",
       "      <td>2014</td>\n",
       "    </tr>\n",
       "  </tbody>\n",
       "</table>\n",
       "</div>"
      ],
      "text/plain": [
       "          issue_d  year\n",
       "245989   Jun-2015  2015\n",
       "1058653  Feb-2016  2016\n",
       "875879   Jul-2018  2018\n",
       "2021738  Jul-2016  2016\n",
       "1838488  Jun-2013  2013\n",
       "1776147  Nov-2013  2013\n",
       "144306   Sep-2015  2015\n",
       "1333195  Feb-2014  2014\n",
       "979621   Apr-2017  2017\n",
       "1154026  Nov-2014  2014"
      ]
     },
     "execution_count": 14,
     "metadata": {},
     "output_type": "execute_result"
    }
   ],
   "source": [
    "data[['issue_d','year']].sample(10)"
   ]
  },
  {
   "cell_type": "code",
   "execution_count": 15,
   "metadata": {},
   "outputs": [
    {
     "data": {
      "text/plain": [
       "Mar-2016    44717\n",
       "Oct-2015    39851\n",
       "Dec-2015    36547\n",
       "Jul-2015    36230\n",
       "Oct-2014    34805\n",
       "            ...  \n",
       "Dec-2008        5\n",
       "Jan-2008        4\n",
       "Nov-2008        3\n",
       "Feb-2008        3\n",
       "Aug-2007        1\n",
       "Name: issue_d, Length: 127, dtype: int64"
      ]
     },
     "execution_count": 15,
     "metadata": {},
     "output_type": "execute_result"
    }
   ],
   "source": [
    "data['issue_d'].value_counts()"
   ]
  },
  {
   "cell_type": "code",
   "execution_count": 16,
   "metadata": {},
   "outputs": [],
   "source": [
    "#data before 2016 missing features so get rid of those rows\n",
    "#so we are analyzing data 2016-2018\n",
    "data=data[(data['year']=='2016')| (data['year']=='2017')| (data['year']=='2018')]"
   ]
  },
  {
   "cell_type": "code",
   "execution_count": 17,
   "metadata": {},
   "outputs": [
    {
     "data": {
      "text/plain": [
       "Individual    473119\n",
       "Joint App      24080\n",
       "Name: application_type, dtype: int64"
      ]
     },
     "execution_count": 17,
     "metadata": {},
     "output_type": "execute_result"
    }
   ],
   "source": [
    "data['application_type'].value_counts()"
   ]
  },
  {
   "cell_type": "code",
   "execution_count": 18,
   "metadata": {},
   "outputs": [],
   "source": [
    "#get rid of joint applications because we are analyzing\n",
    "#attributes of an individual borrower\n",
    "data=data[data['application_type']=='Individual']"
   ]
  },
  {
   "cell_type": "code",
   "execution_count": 19,
   "metadata": {},
   "outputs": [
    {
     "data": {
      "text/plain": [
       "(473119, 69)"
      ]
     },
     "execution_count": 19,
     "metadata": {},
     "output_type": "execute_result"
    }
   ],
   "source": [
    "data.shape"
   ]
  },
  {
   "cell_type": "code",
   "execution_count": 20,
   "metadata": {},
   "outputs": [
    {
     "data": {
      "text/plain": [
       "acc_open_past_24mths                   0\n",
       "addr_state                             0\n",
       "all_util                              87\n",
       "annual_inc                             0\n",
       "application_type                       0\n",
       "avg_cur_bal                            7\n",
       "delinq_2yrs                            0\n",
       "dti                                    0\n",
       "emp_length                         30731\n",
       "fico_range_high                        0\n",
       "fico_range_low                         0\n",
       "funded_amnt_inv                        0\n",
       "grade                                  0\n",
       "home_ownership                         0\n",
       "inq_fi                                49\n",
       "initial_list_status                    0\n",
       "inq_last_12m                          50\n",
       "inq_last_6mths                         1\n",
       "installment                            0\n",
       "int_rate                               0\n",
       "issue_d                                0\n",
       "loan_amnt                              0\n",
       "loan_status                            0\n",
       "mo_sin_old_il_acct                 12468\n",
       "mo_sin_old_rev_tl_op                   0\n",
       "mths_since_last_delinq            232207\n",
       "mths_since_last_major_derog       339056\n",
       "mths_since_last_record            382150\n",
       "mths_since_rcnt_il                 12512\n",
       "mths_since_recent_bc                5199\n",
       "mths_since_recent_bc_dlq          358157\n",
       "mths_since_recent_inq              43522\n",
       "mths_since_recent_revol_delinq    309351\n",
       "mort_acc                               0\n",
       "num_accts_ever_120_pd                  0\n",
       "num_actv_bc_tl                         0\n",
       "num_actv_rev_tl                        0\n",
       "num_bc_sats                            0\n",
       "num_bc_tl                              0\n",
       "num_il_tl                              0\n",
       "num_op_rev_tl                          0\n",
       "num_rev_accts                          0\n",
       "num_rev_tl_bal_gt_0                    0\n",
       "num_sats                               0\n",
       "num_tl_90g_dpd_24m                     0\n",
       "num_tl_op_past_12m                     0\n",
       "open_acc                               0\n",
       "open_acc_6m                           50\n",
       "open_il_12m                           49\n",
       "open_il_24m                           49\n",
       "open_act_il                           49\n",
       "open_rv_12m                           49\n",
       "open_rv_24m                           49\n",
       "pct_tl_nvr_dlq                         1\n",
       "percent_bc_gt_75                    5580\n",
       "revol_bal                              0\n",
       "revol_util                           354\n",
       "pub_rec                                0\n",
       "pub_rec_bankruptcies                   0\n",
       "purpose                                0\n",
       "sub_grade                              0\n",
       "tax_liens                              0\n",
       "term                                   0\n",
       "tot_coll_amt                           0\n",
       "total_acc                              0\n",
       "total_pymnt_inv                        0\n",
       "total_cu_tl                           50\n",
       "verification_status                    0\n",
       "year                                   0\n",
       "dtype: int64"
      ]
     },
     "execution_count": 20,
     "metadata": {},
     "output_type": "execute_result"
    }
   ],
   "source": [
    "pd.set_option('display.max_rows', None)\n",
    "pd.isnull(data).sum(axis=0)"
   ]
  },
  {
   "cell_type": "code",
   "execution_count": 21,
   "metadata": {},
   "outputs": [
    {
     "data": {
      "text/plain": [
       "acc_open_past_24mths               0.000000\n",
       "addr_state                         0.000000\n",
       "all_util                           0.018389\n",
       "annual_inc                         0.000000\n",
       "application_type                   0.000000\n",
       "avg_cur_bal                        0.001480\n",
       "delinq_2yrs                        0.000000\n",
       "dti                                0.000000\n",
       "emp_length                         6.495406\n",
       "fico_range_high                    0.000000\n",
       "fico_range_low                     0.000000\n",
       "funded_amnt_inv                    0.000000\n",
       "grade                              0.000000\n",
       "home_ownership                     0.000000\n",
       "inq_fi                             0.010357\n",
       "initial_list_status                0.000000\n",
       "inq_last_12m                       0.010568\n",
       "inq_last_6mths                     0.000211\n",
       "installment                        0.000000\n",
       "int_rate                           0.000000\n",
       "issue_d                            0.000000\n",
       "loan_amnt                          0.000000\n",
       "loan_status                        0.000000\n",
       "mo_sin_old_il_acct                 2.635278\n",
       "mo_sin_old_rev_tl_op               0.000000\n",
       "mths_since_last_delinq            49.080041\n",
       "mths_since_last_major_derog       71.664000\n",
       "mths_since_last_record            80.772491\n",
       "mths_since_rcnt_il                 2.644578\n",
       "mths_since_recent_bc               1.098878\n",
       "mths_since_recent_bc_dlq          75.701251\n",
       "mths_since_recent_inq              9.198954\n",
       "mths_since_recent_revol_delinq    65.385453\n",
       "mort_acc                           0.000000\n",
       "num_accts_ever_120_pd              0.000000\n",
       "num_actv_bc_tl                     0.000000\n",
       "num_actv_rev_tl                    0.000000\n",
       "num_bc_sats                        0.000000\n",
       "num_bc_tl                          0.000000\n",
       "num_il_tl                          0.000000\n",
       "num_op_rev_tl                      0.000000\n",
       "num_rev_accts                      0.000000\n",
       "num_rev_tl_bal_gt_0                0.000000\n",
       "num_sats                           0.000000\n",
       "num_tl_90g_dpd_24m                 0.000000\n",
       "num_tl_op_past_12m                 0.000000\n",
       "open_acc                           0.000000\n",
       "open_acc_6m                        0.010568\n",
       "open_il_12m                        0.010357\n",
       "open_il_24m                        0.010357\n",
       "open_act_il                        0.010357\n",
       "open_rv_12m                        0.010357\n",
       "open_rv_24m                        0.010357\n",
       "pct_tl_nvr_dlq                     0.000211\n",
       "percent_bc_gt_75                   1.179407\n",
       "revol_bal                          0.000000\n",
       "revol_util                         0.074823\n",
       "pub_rec                            0.000000\n",
       "pub_rec_bankruptcies               0.000000\n",
       "purpose                            0.000000\n",
       "sub_grade                          0.000000\n",
       "tax_liens                          0.000000\n",
       "term                               0.000000\n",
       "tot_coll_amt                       0.000000\n",
       "total_acc                          0.000000\n",
       "total_pymnt_inv                    0.000000\n",
       "total_cu_tl                        0.010568\n",
       "verification_status                0.000000\n",
       "year                               0.000000\n",
       "dtype: float64"
      ]
     },
     "execution_count": 21,
     "metadata": {},
     "output_type": "execute_result"
    }
   ],
   "source": [
    "#percent of data missing\n",
    "(pd.isnull(data).sum(axis=0)/data.shape[0])*100"
   ]
  },
  {
   "cell_type": "code",
   "execution_count": 22,
   "metadata": {},
   "outputs": [],
   "source": [
    "#we can drop many of the features that have so much missing data because anyway the\n",
    "#FICO score and grade takes into account these features. They're not really necessary.\n",
    "data.drop(['mo_sin_old_il_acct','mths_since_last_delinq','mths_since_last_delinq',\n",
    "          'mths_since_last_major_derog',\n",
    "          'mths_since_last_record','mths_since_rcnt_il','mths_since_recent_bc',\n",
    "          'mths_since_recent_bc_dlq','percent_bc_gt_75','mths_since_recent_inq',\n",
    "          'mths_since_recent_revol_delinq','percent_bc_gt_75'],axis=1, inplace=True)"
   ]
  },
  {
   "cell_type": "code",
   "execution_count": 23,
   "metadata": {},
   "outputs": [
    {
     "data": {
      "text/plain": [
       "(473119, 59)"
      ]
     },
     "execution_count": 23,
     "metadata": {},
     "output_type": "execute_result"
    }
   ],
   "source": [
    "data.shape"
   ]
  },
  {
   "cell_type": "code",
   "execution_count": 24,
   "metadata": {
    "scrolled": true
   },
   "outputs": [
    {
     "data": {
      "text/plain": [
       "acc_open_past_24mths         0\n",
       "addr_state                   0\n",
       "all_util                    87\n",
       "annual_inc                   0\n",
       "application_type             0\n",
       "avg_cur_bal                  7\n",
       "delinq_2yrs                  0\n",
       "dti                          0\n",
       "emp_length               30731\n",
       "fico_range_high              0\n",
       "fico_range_low               0\n",
       "funded_amnt_inv              0\n",
       "grade                        0\n",
       "home_ownership               0\n",
       "inq_fi                      49\n",
       "initial_list_status          0\n",
       "inq_last_12m                50\n",
       "inq_last_6mths               1\n",
       "installment                  0\n",
       "int_rate                     0\n",
       "issue_d                      0\n",
       "loan_amnt                    0\n",
       "loan_status                  0\n",
       "mo_sin_old_rev_tl_op         0\n",
       "mort_acc                     0\n",
       "num_accts_ever_120_pd        0\n",
       "num_actv_bc_tl               0\n",
       "num_actv_rev_tl              0\n",
       "num_bc_sats                  0\n",
       "num_bc_tl                    0\n",
       "num_il_tl                    0\n",
       "num_op_rev_tl                0\n",
       "num_rev_accts                0\n",
       "num_rev_tl_bal_gt_0          0\n",
       "num_sats                     0\n",
       "num_tl_90g_dpd_24m           0\n",
       "num_tl_op_past_12m           0\n",
       "open_acc                     0\n",
       "open_acc_6m                 50\n",
       "open_il_12m                 49\n",
       "open_il_24m                 49\n",
       "open_act_il                 49\n",
       "open_rv_12m                 49\n",
       "open_rv_24m                 49\n",
       "pct_tl_nvr_dlq               1\n",
       "revol_bal                    0\n",
       "revol_util                 354\n",
       "pub_rec                      0\n",
       "pub_rec_bankruptcies         0\n",
       "purpose                      0\n",
       "sub_grade                    0\n",
       "tax_liens                    0\n",
       "term                         0\n",
       "tot_coll_amt                 0\n",
       "total_acc                    0\n",
       "total_pymnt_inv              0\n",
       "total_cu_tl                 50\n",
       "verification_status          0\n",
       "year                         0\n",
       "dtype: int64"
      ]
     },
     "execution_count": 24,
     "metadata": {},
     "output_type": "execute_result"
    }
   ],
   "source": [
    "data.isnull().sum()"
   ]
  },
  {
   "cell_type": "code",
   "execution_count": 25,
   "metadata": {},
   "outputs": [],
   "source": [
    "#get rid of rows where these are na, since na randomly. and only a tiny portion \n",
    "#of the rows anyway, so not a big deal\n",
    "data.dropna(subset=['all_util','avg_cur_bal','dti','inq_fi','inq_last_12m','inq_last_6mths',\n",
    "            'open_acc_6m','open_il_12m','open_il_24m','open_act_il','open_rv_12m','open_rv_24m',\n",
    "            'pct_tl_nvr_dlq','revol_util','total_cu_tl'],inplace=True)"
   ]
  },
  {
   "cell_type": "code",
   "execution_count": 26,
   "metadata": {},
   "outputs": [
    {
     "data": {
      "text/plain": [
       "(472714, 59)"
      ]
     },
     "execution_count": 26,
     "metadata": {},
     "output_type": "execute_result"
    }
   ],
   "source": [
    "data.shape"
   ]
  },
  {
   "cell_type": "code",
   "execution_count": 27,
   "metadata": {},
   "outputs": [
    {
     "data": {
      "text/html": [
       "<div>\n",
       "<style scoped>\n",
       "    .dataframe tbody tr th:only-of-type {\n",
       "        vertical-align: middle;\n",
       "    }\n",
       "\n",
       "    .dataframe tbody tr th {\n",
       "        vertical-align: top;\n",
       "    }\n",
       "\n",
       "    .dataframe thead th {\n",
       "        text-align: right;\n",
       "    }\n",
       "</style>\n",
       "<table border=\"1\" class=\"dataframe\">\n",
       "  <thead>\n",
       "    <tr style=\"text-align: right;\">\n",
       "      <th></th>\n",
       "      <th>acc_open_past_24mths</th>\n",
       "      <th>addr_state</th>\n",
       "      <th>all_util</th>\n",
       "      <th>annual_inc</th>\n",
       "      <th>application_type</th>\n",
       "      <th>avg_cur_bal</th>\n",
       "      <th>delinq_2yrs</th>\n",
       "      <th>dti</th>\n",
       "      <th>emp_length</th>\n",
       "      <th>fico_range_high</th>\n",
       "      <th>...</th>\n",
       "      <th>purpose</th>\n",
       "      <th>sub_grade</th>\n",
       "      <th>tax_liens</th>\n",
       "      <th>term</th>\n",
       "      <th>tot_coll_amt</th>\n",
       "      <th>total_acc</th>\n",
       "      <th>total_pymnt_inv</th>\n",
       "      <th>total_cu_tl</th>\n",
       "      <th>verification_status</th>\n",
       "      <th>year</th>\n",
       "    </tr>\n",
       "  </thead>\n",
       "  <tbody>\n",
       "    <tr>\n",
       "      <th>1661756</th>\n",
       "      <td>2.0</td>\n",
       "      <td>MS</td>\n",
       "      <td>24.0</td>\n",
       "      <td>80000.0</td>\n",
       "      <td>Individual</td>\n",
       "      <td>3009.0</td>\n",
       "      <td>0.0</td>\n",
       "      <td>14.68</td>\n",
       "      <td>NaN</td>\n",
       "      <td>794.0</td>\n",
       "      <td>...</td>\n",
       "      <td>debt_consolidation</td>\n",
       "      <td>A5</td>\n",
       "      <td>0.0</td>\n",
       "      <td>36 months</td>\n",
       "      <td>0.0</td>\n",
       "      <td>30.0</td>\n",
       "      <td>22137.30</td>\n",
       "      <td>0.0</td>\n",
       "      <td>Verified</td>\n",
       "      <td>2017</td>\n",
       "    </tr>\n",
       "    <tr>\n",
       "      <th>2188743</th>\n",
       "      <td>1.0</td>\n",
       "      <td>KS</td>\n",
       "      <td>39.0</td>\n",
       "      <td>21435.0</td>\n",
       "      <td>Individual</td>\n",
       "      <td>1171.0</td>\n",
       "      <td>0.0</td>\n",
       "      <td>5.04</td>\n",
       "      <td>NaN</td>\n",
       "      <td>729.0</td>\n",
       "      <td>...</td>\n",
       "      <td>credit_card</td>\n",
       "      <td>A5</td>\n",
       "      <td>0.0</td>\n",
       "      <td>36 months</td>\n",
       "      <td>0.0</td>\n",
       "      <td>16.0</td>\n",
       "      <td>5471.02</td>\n",
       "      <td>1.0</td>\n",
       "      <td>Verified</td>\n",
       "      <td>2016</td>\n",
       "    </tr>\n",
       "    <tr>\n",
       "      <th>662402</th>\n",
       "      <td>7.0</td>\n",
       "      <td>GA</td>\n",
       "      <td>51.0</td>\n",
       "      <td>64970.0</td>\n",
       "      <td>Individual</td>\n",
       "      <td>11608.0</td>\n",
       "      <td>0.0</td>\n",
       "      <td>18.53</td>\n",
       "      <td>NaN</td>\n",
       "      <td>679.0</td>\n",
       "      <td>...</td>\n",
       "      <td>debt_consolidation</td>\n",
       "      <td>B5</td>\n",
       "      <td>0.0</td>\n",
       "      <td>36 months</td>\n",
       "      <td>101.0</td>\n",
       "      <td>34.0</td>\n",
       "      <td>5172.21</td>\n",
       "      <td>0.0</td>\n",
       "      <td>Source Verified</td>\n",
       "      <td>2016</td>\n",
       "    </tr>\n",
       "    <tr>\n",
       "      <th>924145</th>\n",
       "      <td>3.0</td>\n",
       "      <td>OH</td>\n",
       "      <td>32.0</td>\n",
       "      <td>20232.0</td>\n",
       "      <td>Individual</td>\n",
       "      <td>17180.0</td>\n",
       "      <td>0.0</td>\n",
       "      <td>9.25</td>\n",
       "      <td>NaN</td>\n",
       "      <td>744.0</td>\n",
       "      <td>...</td>\n",
       "      <td>debt_consolidation</td>\n",
       "      <td>A5</td>\n",
       "      <td>0.0</td>\n",
       "      <td>36 months</td>\n",
       "      <td>0.0</td>\n",
       "      <td>17.0</td>\n",
       "      <td>7522.50</td>\n",
       "      <td>0.0</td>\n",
       "      <td>Verified</td>\n",
       "      <td>2017</td>\n",
       "    </tr>\n",
       "    <tr>\n",
       "      <th>1065124</th>\n",
       "      <td>1.0</td>\n",
       "      <td>OH</td>\n",
       "      <td>97.0</td>\n",
       "      <td>36000.0</td>\n",
       "      <td>Individual</td>\n",
       "      <td>8796.0</td>\n",
       "      <td>1.0</td>\n",
       "      <td>10.40</td>\n",
       "      <td>NaN</td>\n",
       "      <td>664.0</td>\n",
       "      <td>...</td>\n",
       "      <td>other</td>\n",
       "      <td>B5</td>\n",
       "      <td>0.0</td>\n",
       "      <td>36 months</td>\n",
       "      <td>0.0</td>\n",
       "      <td>18.0</td>\n",
       "      <td>5228.69</td>\n",
       "      <td>5.0</td>\n",
       "      <td>Verified</td>\n",
       "      <td>2016</td>\n",
       "    </tr>\n",
       "  </tbody>\n",
       "</table>\n",
       "<p>5 rows × 59 columns</p>\n",
       "</div>"
      ],
      "text/plain": [
       "         acc_open_past_24mths addr_state  all_util  annual_inc  \\\n",
       "1661756                   2.0         MS      24.0     80000.0   \n",
       "2188743                   1.0         KS      39.0     21435.0   \n",
       "662402                    7.0         GA      51.0     64970.0   \n",
       "924145                    3.0         OH      32.0     20232.0   \n",
       "1065124                   1.0         OH      97.0     36000.0   \n",
       "\n",
       "        application_type  avg_cur_bal  delinq_2yrs    dti emp_length  \\\n",
       "1661756       Individual       3009.0          0.0  14.68        NaN   \n",
       "2188743       Individual       1171.0          0.0   5.04        NaN   \n",
       "662402        Individual      11608.0          0.0  18.53        NaN   \n",
       "924145        Individual      17180.0          0.0   9.25        NaN   \n",
       "1065124       Individual       8796.0          1.0  10.40        NaN   \n",
       "\n",
       "         fico_range_high  ...             purpose  sub_grade tax_liens  \\\n",
       "1661756            794.0  ...  debt_consolidation         A5       0.0   \n",
       "2188743            729.0  ...         credit_card         A5       0.0   \n",
       "662402             679.0  ...  debt_consolidation         B5       0.0   \n",
       "924145             744.0  ...  debt_consolidation         A5       0.0   \n",
       "1065124            664.0  ...               other         B5       0.0   \n",
       "\n",
       "               term  tot_coll_amt total_acc  total_pymnt_inv  total_cu_tl  \\\n",
       "1661756   36 months           0.0      30.0         22137.30          0.0   \n",
       "2188743   36 months           0.0      16.0          5471.02          1.0   \n",
       "662402    36 months         101.0      34.0          5172.21          0.0   \n",
       "924145    36 months           0.0      17.0          7522.50          0.0   \n",
       "1065124   36 months           0.0      18.0          5228.69          5.0   \n",
       "\n",
       "         verification_status  year  \n",
       "1661756             Verified  2017  \n",
       "2188743             Verified  2016  \n",
       "662402       Source Verified  2016  \n",
       "924145              Verified  2017  \n",
       "1065124             Verified  2016  \n",
       "\n",
       "[5 rows x 59 columns]"
      ]
     },
     "execution_count": 27,
     "metadata": {},
     "output_type": "execute_result"
    }
   ],
   "source": [
    "data[data['emp_length'].isnull()==True].sample(5)"
   ]
  },
  {
   "cell_type": "code",
   "execution_count": 28,
   "metadata": {},
   "outputs": [],
   "source": [
    "#seeems like length missing because unemployed\n",
    "data['emp_length'].fillna('None', inplace=True)"
   ]
  },
  {
   "cell_type": "code",
   "execution_count": 29,
   "metadata": {},
   "outputs": [
    {
     "data": {
      "text/plain": [
       "acc_open_past_24mths     0\n",
       "addr_state               0\n",
       "all_util                 0\n",
       "annual_inc               0\n",
       "application_type         0\n",
       "avg_cur_bal              0\n",
       "delinq_2yrs              0\n",
       "dti                      0\n",
       "emp_length               0\n",
       "fico_range_high          0\n",
       "fico_range_low           0\n",
       "funded_amnt_inv          0\n",
       "grade                    0\n",
       "home_ownership           0\n",
       "inq_fi                   0\n",
       "initial_list_status      0\n",
       "inq_last_12m             0\n",
       "inq_last_6mths           0\n",
       "installment              0\n",
       "int_rate                 0\n",
       "issue_d                  0\n",
       "loan_amnt                0\n",
       "loan_status              0\n",
       "mo_sin_old_rev_tl_op     0\n",
       "mort_acc                 0\n",
       "num_accts_ever_120_pd    0\n",
       "num_actv_bc_tl           0\n",
       "num_actv_rev_tl          0\n",
       "num_bc_sats              0\n",
       "num_bc_tl                0\n",
       "num_il_tl                0\n",
       "num_op_rev_tl            0\n",
       "num_rev_accts            0\n",
       "num_rev_tl_bal_gt_0      0\n",
       "num_sats                 0\n",
       "num_tl_90g_dpd_24m       0\n",
       "num_tl_op_past_12m       0\n",
       "open_acc                 0\n",
       "open_acc_6m              0\n",
       "open_il_12m              0\n",
       "open_il_24m              0\n",
       "open_act_il              0\n",
       "open_rv_12m              0\n",
       "open_rv_24m              0\n",
       "pct_tl_nvr_dlq           0\n",
       "revol_bal                0\n",
       "revol_util               0\n",
       "pub_rec                  0\n",
       "pub_rec_bankruptcies     0\n",
       "purpose                  0\n",
       "sub_grade                0\n",
       "tax_liens                0\n",
       "term                     0\n",
       "tot_coll_amt             0\n",
       "total_acc                0\n",
       "total_pymnt_inv          0\n",
       "total_cu_tl              0\n",
       "verification_status      0\n",
       "year                     0\n",
       "dtype: int64"
      ]
     },
     "execution_count": 29,
     "metadata": {},
     "output_type": "execute_result"
    }
   ],
   "source": [
    "pd.isnull(data).sum(axis=0)"
   ]
  },
  {
   "cell_type": "code",
   "execution_count": 180,
   "metadata": {},
   "outputs": [
    {
     "data": {
      "text/plain": [
       "acc_open_past_24mths                  float64\n",
       "addr_state                             object\n",
       "all_util                              float64\n",
       "annual_inc                            float64\n",
       "application_type                       object\n",
       "avg_cur_bal                           float64\n",
       "delinq_2yrs                           float64\n",
       "dti                                   float64\n",
       "emp_length                             object\n",
       "fico_range_high                       float64\n",
       "fico_range_low                        float64\n",
       "funded_amnt_inv                       float64\n",
       "grade                                  object\n",
       "home_ownership                         object\n",
       "inq_fi                                float64\n",
       "initial_list_status                    object\n",
       "inq_last_12m                          float64\n",
       "inq_last_6mths                        float64\n",
       "installment                           float64\n",
       "int_rate                              float64\n",
       "issue_d                                object\n",
       "loan_amnt                             float64\n",
       "loan_status                            object\n",
       "mo_sin_old_rev_tl_op                  float64\n",
       "mort_acc                              float64\n",
       "num_accts_ever_120_pd                 float64\n",
       "num_actv_bc_tl                        float64\n",
       "num_actv_rev_tl                       float64\n",
       "num_bc_sats                           float64\n",
       "num_bc_tl                             float64\n",
       "num_il_tl                             float64\n",
       "num_op_rev_tl                         float64\n",
       "num_rev_accts                         float64\n",
       "num_rev_tl_bal_gt_0                   float64\n",
       "num_sats                              float64\n",
       "num_tl_90g_dpd_24m                    float64\n",
       "num_tl_op_past_12m                    float64\n",
       "open_acc                              float64\n",
       "open_acc_6m                           float64\n",
       "open_il_12m                           float64\n",
       "open_il_24m                           float64\n",
       "open_act_il                           float64\n",
       "open_rv_12m                           float64\n",
       "open_rv_24m                           float64\n",
       "pct_tl_nvr_dlq                        float64\n",
       "revol_bal                             float64\n",
       "revol_util                            float64\n",
       "pub_rec                               float64\n",
       "pub_rec_bankruptcies                  float64\n",
       "purpose                                object\n",
       "sub_grade                              object\n",
       "tax_liens                             float64\n",
       "term                                   object\n",
       "tot_coll_amt                          float64\n",
       "total_acc                             float64\n",
       "total_pymnt_inv                       float64\n",
       "total_cu_tl                           float64\n",
       "verification_status                    object\n",
       "year                                   object\n",
       "avg_fico_score                        float64\n",
       "Profit_Percentage_Inv                 float64\n",
       "Profit_Percentage_Inv_Range            object\n",
       "emp_length_enc                        float64\n",
       "grade_enc                               int64\n",
       "sub_grade_enc                           int64\n",
       "addr_state_enc                        float64\n",
       "home_ownership_enc                    float64\n",
       "purpose_enc                           float64\n",
       "term_enc                              float64\n",
       "verification_status_enc               float64\n",
       "initial_list_status_enc               float64\n",
       "Profit_Percentage_Inv_Range_3split     object\n",
       "dtype: object"
      ]
     },
     "execution_count": 180,
     "metadata": {},
     "output_type": "execute_result"
    }
   ],
   "source": [
    "data.dtypes"
   ]
  },
  {
   "cell_type": "code",
   "execution_count": 179,
   "metadata": {},
   "outputs": [],
   "source": [
    "data['avg_fico_score']=(data['fico_range_high']+data['fico_range_low'])/2"
   ]
  },
  {
   "cell_type": "code",
   "execution_count": 32,
   "metadata": {},
   "outputs": [
    {
     "data": {
      "text/html": [
       "<div>\n",
       "<style scoped>\n",
       "    .dataframe tbody tr th:only-of-type {\n",
       "        vertical-align: middle;\n",
       "    }\n",
       "\n",
       "    .dataframe tbody tr th {\n",
       "        vertical-align: top;\n",
       "    }\n",
       "\n",
       "    .dataframe thead th {\n",
       "        text-align: right;\n",
       "    }\n",
       "</style>\n",
       "<table border=\"1\" class=\"dataframe\">\n",
       "  <thead>\n",
       "    <tr style=\"text-align: right;\">\n",
       "      <th></th>\n",
       "      <th>avg_fico_score</th>\n",
       "      <th>fico_range_high</th>\n",
       "      <th>fico_range_low</th>\n",
       "    </tr>\n",
       "  </thead>\n",
       "  <tbody>\n",
       "    <tr>\n",
       "      <th>480345</th>\n",
       "      <td>667.0</td>\n",
       "      <td>669.0</td>\n",
       "      <td>665.0</td>\n",
       "    </tr>\n",
       "    <tr>\n",
       "      <th>726852</th>\n",
       "      <td>667.0</td>\n",
       "      <td>669.0</td>\n",
       "      <td>665.0</td>\n",
       "    </tr>\n",
       "    <tr>\n",
       "      <th>1054285</th>\n",
       "      <td>687.0</td>\n",
       "      <td>689.0</td>\n",
       "      <td>685.0</td>\n",
       "    </tr>\n",
       "    <tr>\n",
       "      <th>1983406</th>\n",
       "      <td>732.0</td>\n",
       "      <td>734.0</td>\n",
       "      <td>730.0</td>\n",
       "    </tr>\n",
       "    <tr>\n",
       "      <th>928245</th>\n",
       "      <td>702.0</td>\n",
       "      <td>704.0</td>\n",
       "      <td>700.0</td>\n",
       "    </tr>\n",
       "    <tr>\n",
       "      <th>2028433</th>\n",
       "      <td>692.0</td>\n",
       "      <td>694.0</td>\n",
       "      <td>690.0</td>\n",
       "    </tr>\n",
       "    <tr>\n",
       "      <th>988178</th>\n",
       "      <td>677.0</td>\n",
       "      <td>679.0</td>\n",
       "      <td>675.0</td>\n",
       "    </tr>\n",
       "    <tr>\n",
       "      <th>1012550</th>\n",
       "      <td>712.0</td>\n",
       "      <td>714.0</td>\n",
       "      <td>710.0</td>\n",
       "    </tr>\n",
       "    <tr>\n",
       "      <th>2259984</th>\n",
       "      <td>692.0</td>\n",
       "      <td>694.0</td>\n",
       "      <td>690.0</td>\n",
       "    </tr>\n",
       "    <tr>\n",
       "      <th>1716631</th>\n",
       "      <td>687.0</td>\n",
       "      <td>689.0</td>\n",
       "      <td>685.0</td>\n",
       "    </tr>\n",
       "  </tbody>\n",
       "</table>\n",
       "</div>"
      ],
      "text/plain": [
       "         avg_fico_score  fico_range_high  fico_range_low\n",
       "480345            667.0            669.0           665.0\n",
       "726852            667.0            669.0           665.0\n",
       "1054285           687.0            689.0           685.0\n",
       "1983406           732.0            734.0           730.0\n",
       "928245            702.0            704.0           700.0\n",
       "2028433           692.0            694.0           690.0\n",
       "988178            677.0            679.0           675.0\n",
       "1012550           712.0            714.0           710.0\n",
       "2259984           692.0            694.0           690.0\n",
       "1716631           687.0            689.0           685.0"
      ]
     },
     "execution_count": 32,
     "metadata": {},
     "output_type": "execute_result"
    }
   ],
   "source": [
    "data[['avg_fico_score','fico_range_high','fico_range_low']].sample(10)"
   ]
  },
  {
   "cell_type": "code",
   "execution_count": 136,
   "metadata": {},
   "outputs": [],
   "source": [
    "data['Profit_Percentage_Inv']= round(((data['total_pymnt_inv']-data['funded_amnt_inv']) / data['funded_amnt_inv'])*100)"
   ]
  },
  {
   "cell_type": "code",
   "execution_count": 207,
   "metadata": {},
   "outputs": [
    {
     "data": {
      "text/html": [
       "<div>\n",
       "<style scoped>\n",
       "    .dataframe tbody tr th:only-of-type {\n",
       "        vertical-align: middle;\n",
       "    }\n",
       "\n",
       "    .dataframe tbody tr th {\n",
       "        vertical-align: top;\n",
       "    }\n",
       "\n",
       "    .dataframe thead th {\n",
       "        text-align: right;\n",
       "    }\n",
       "</style>\n",
       "<table border=\"1\" class=\"dataframe\">\n",
       "  <thead>\n",
       "    <tr style=\"text-align: right;\">\n",
       "      <th></th>\n",
       "      <th>funded_amnt_inv</th>\n",
       "      <th>total_pymnt_inv</th>\n",
       "      <th>loan_status</th>\n",
       "      <th>Profit_Percentage_Inv</th>\n",
       "    </tr>\n",
       "  </thead>\n",
       "  <tbody>\n",
       "    <tr>\n",
       "      <th>455577</th>\n",
       "      <td>6025.0</td>\n",
       "      <td>210.37</td>\n",
       "      <td>Charged Off</td>\n",
       "      <td>-97.0</td>\n",
       "    </tr>\n",
       "    <tr>\n",
       "      <th>706478</th>\n",
       "      <td>9600.0</td>\n",
       "      <td>10564.75</td>\n",
       "      <td>Fully Paid</td>\n",
       "      <td>10.0</td>\n",
       "    </tr>\n",
       "    <tr>\n",
       "      <th>1116923</th>\n",
       "      <td>16800.0</td>\n",
       "      <td>19434.10</td>\n",
       "      <td>Fully Paid</td>\n",
       "      <td>16.0</td>\n",
       "    </tr>\n",
       "    <tr>\n",
       "      <th>1706993</th>\n",
       "      <td>15000.0</td>\n",
       "      <td>17219.36</td>\n",
       "      <td>Fully Paid</td>\n",
       "      <td>15.0</td>\n",
       "    </tr>\n",
       "    <tr>\n",
       "      <th>641865</th>\n",
       "      <td>22075.0</td>\n",
       "      <td>23578.78</td>\n",
       "      <td>Fully Paid</td>\n",
       "      <td>7.0</td>\n",
       "    </tr>\n",
       "    <tr>\n",
       "      <th>1990308</th>\n",
       "      <td>6000.0</td>\n",
       "      <td>3307.18</td>\n",
       "      <td>Charged Off</td>\n",
       "      <td>-45.0</td>\n",
       "    </tr>\n",
       "    <tr>\n",
       "      <th>2163219</th>\n",
       "      <td>20000.0</td>\n",
       "      <td>23879.92</td>\n",
       "      <td>Fully Paid</td>\n",
       "      <td>19.0</td>\n",
       "    </tr>\n",
       "  </tbody>\n",
       "</table>\n",
       "</div>"
      ],
      "text/plain": [
       "         funded_amnt_inv  total_pymnt_inv  loan_status  Profit_Percentage_Inv\n",
       "455577            6025.0           210.37  Charged Off                  -97.0\n",
       "706478            9600.0         10564.75   Fully Paid                   10.0\n",
       "1116923          16800.0         19434.10   Fully Paid                   16.0\n",
       "1706993          15000.0         17219.36   Fully Paid                   15.0\n",
       "641865           22075.0         23578.78   Fully Paid                    7.0\n",
       "1990308           6000.0          3307.18  Charged Off                  -45.0\n",
       "2163219          20000.0         23879.92   Fully Paid                   19.0"
      ]
     },
     "execution_count": 207,
     "metadata": {},
     "output_type": "execute_result"
    }
   ],
   "source": [
    "data[['funded_amnt_inv','total_pymnt_inv','loan_status','Profit_Percentage_Inv']].sample(7)"
   ]
  },
  {
   "cell_type": "code",
   "execution_count": 138,
   "metadata": {},
   "outputs": [
    {
     "data": {
      "text/plain": [
       "-100.0      619\n",
       "-99.0        15\n",
       "-98.0       149\n",
       "-97.0       510\n",
       "-96.0       299\n",
       "-95.0       244\n",
       "-94.0       397\n",
       "-93.0       786\n",
       "-92.0       406\n",
       "-91.0       462\n",
       "-90.0       965\n",
       "-89.0       678\n",
       "-88.0       568\n",
       "-87.0      1049\n",
       "-86.0      1250\n",
       "-85.0       850\n",
       "-84.0      1261\n",
       "-83.0      1419\n",
       "-82.0      1180\n",
       "-81.0      1353\n",
       "-80.0      1698\n",
       "-79.0      1388\n",
       "-78.0      1428\n",
       "-77.0      1727\n",
       "-76.0      1589\n",
       "-75.0      1576\n",
       "-74.0      1817\n",
       "-73.0      1696\n",
       "-72.0      1615\n",
       "-71.0      1746\n",
       "-70.0      1717\n",
       "-69.0      1767\n",
       "-68.0      1844\n",
       "-67.0      1796\n",
       "-66.0      1794\n",
       "-65.0      1747\n",
       "-64.0      1824\n",
       "-63.0      1802\n",
       "-62.0      1717\n",
       "-61.0      1703\n",
       "-60.0      1811\n",
       "-59.0      1738\n",
       "-58.0      1581\n",
       "-57.0      1703\n",
       "-56.0      1644\n",
       "-55.0      1454\n",
       "-54.0      1767\n",
       "-53.0      1572\n",
       "-52.0      1590\n",
       "-51.0      1522\n",
       "-50.0      1474\n",
       "-49.0      1509\n",
       "-48.0      1379\n",
       "-47.0      1369\n",
       "-46.0      1364\n",
       "-45.0      1353\n",
       "-44.0      1301\n",
       "-43.0      1232\n",
       "-42.0      1271\n",
       "-41.0      1191\n",
       "-40.0      1126\n",
       "-39.0      1119\n",
       "-38.0      1084\n",
       "-37.0      1095\n",
       "-36.0      1043\n",
       "-35.0       946\n",
       "-34.0      1030\n",
       "-33.0       987\n",
       "-32.0       825\n",
       "-31.0       902\n",
       "-30.0       835\n",
       "-29.0       780\n",
       "-28.0       870\n",
       "-27.0       742\n",
       "-26.0       711\n",
       "-25.0       726\n",
       "-24.0       705\n",
       "-23.0       639\n",
       "-22.0       635\n",
       "-21.0       612\n",
       "-20.0       532\n",
       "-19.0       565\n",
       "-18.0       530\n",
       "-17.0       505\n",
       "-16.0       502\n",
       "-15.0       481\n",
       "-14.0       462\n",
       "-13.0       388\n",
       "-12.0       348\n",
       "-11.0       366\n",
       "-10.0       332\n",
       "-9.0        276\n",
       "-8.0        294\n",
       "-7.0        304\n",
       "-6.0        223\n",
       "-5.0        262\n",
       "-4.0        237\n",
       "-3.0        181\n",
       "-2.0        194\n",
       "-1.0        191\n",
       " 0.0      10906\n",
       " 1.0      11554\n",
       " 2.0      13603\n",
       " 3.0      15938\n",
       " 4.0      17402\n",
       " 5.0      18630\n",
       " 6.0      19348\n",
       " 7.0      20752\n",
       " 8.0      23570\n",
       " 9.0      19061\n",
       " 10.0     20340\n",
       " 11.0     19395\n",
       " 12.0     18370\n",
       " 13.0     17620\n",
       " 14.0     14558\n",
       " 15.0     14692\n",
       " 16.0     13328\n",
       " 17.0     12039\n",
       " 18.0      9272\n",
       " 19.0      9972\n",
       " 20.0      6633\n",
       " 21.0      6609\n",
       " 22.0      5519\n",
       " 23.0      4189\n",
       " 24.0      3867\n",
       " 25.0      3297\n",
       " 26.0      2535\n",
       " 27.0      2402\n",
       " 28.0      1941\n",
       " 29.0      1868\n",
       " 30.0      1438\n",
       " 31.0      1253\n",
       " 32.0      1125\n",
       " 33.0       917\n",
       " 34.0       761\n",
       " 35.0       736\n",
       " 36.0       602\n",
       " 37.0       497\n",
       " 38.0       435\n",
       " 39.0       380\n",
       " 40.0       303\n",
       " 41.0       285\n",
       " 42.0       271\n",
       " 43.0       263\n",
       " 44.0       200\n",
       " 45.0       191\n",
       " 46.0       169\n",
       " 47.0       130\n",
       " 48.0       121\n",
       " 49.0       122\n",
       " 50.0        87\n",
       " 51.0        55\n",
       " 52.0        47\n",
       " 53.0        40\n",
       " 54.0        40\n",
       " 55.0        36\n",
       " 56.0        28\n",
       " 57.0        19\n",
       " 58.0        12\n",
       " 59.0        22\n",
       " 60.0        13\n",
       " 61.0        13\n",
       " 62.0         6\n",
       " 63.0         4\n",
       " 64.0         4\n",
       " 65.0         5\n",
       " 66.0         3\n",
       " 67.0         3\n",
       " 68.0         1\n",
       " 69.0         2\n",
       " 70.0         2\n",
       " 72.0         1\n",
       " 117.0        1\n",
       "Name: Profit_Percentage_Inv, dtype: int64"
      ]
     },
     "execution_count": 138,
     "metadata": {},
     "output_type": "execute_result"
    }
   ],
   "source": [
    "data['Profit_Percentage_Inv'].value_counts().sort_index()"
   ]
  },
  {
   "cell_type": "code",
   "execution_count": 315,
   "metadata": {},
   "outputs": [
    {
     "data": {
      "text/plain": [
       "(472714, 74)"
      ]
     },
     "execution_count": 315,
     "metadata": {},
     "output_type": "execute_result"
    }
   ],
   "source": [
    "data.shape"
   ]
  },
  {
   "cell_type": "code",
   "execution_count": 140,
   "metadata": {},
   "outputs": [
    {
     "data": {
      "text/plain": [
       "23635.7"
      ]
     },
     "execution_count": 140,
     "metadata": {},
     "output_type": "execute_result"
    }
   ],
   "source": [
    ".05*472714"
   ]
  },
  {
   "cell_type": "code",
   "execution_count": 181,
   "metadata": {},
   "outputs": [
    {
     "data": {
      "text/plain": [
       "47271.4"
      ]
     },
     "execution_count": 181,
     "metadata": {},
     "output_type": "execute_result"
    }
   ],
   "source": [
    ".10*472714"
   ]
  },
  {
   "cell_type": "code",
   "execution_count": 141,
   "metadata": {},
   "outputs": [],
   "source": [
    "def f(df):\n",
    "    if df['Profit_Percentage_Inv'] < 25:\n",
    "        val = 'Remaining loans'\n",
    "    else:\n",
    "        val = 'The ~5% of loans with highest profit percentage'\n",
    "    return val"
   ]
  },
  {
   "cell_type": "code",
   "execution_count": 142,
   "metadata": {},
   "outputs": [],
   "source": [
    "data['Profit_Percentage_Inv_Range']= data.apply(f, axis=1)"
   ]
  },
  {
   "cell_type": "code",
   "execution_count": 143,
   "metadata": {},
   "outputs": [
    {
     "data": {
      "text/plain": [
       "Remaining loans                                    450028\n",
       "The ~5% of loans with highest profit percentage     22686\n",
       "Name: Profit_Percentage_Inv_Range, dtype: int64"
      ]
     },
     "execution_count": 143,
     "metadata": {},
     "output_type": "execute_result"
    }
   ],
   "source": [
    "data['Profit_Percentage_Inv_Range'].value_counts()"
   ]
  },
  {
   "cell_type": "code",
   "execution_count": 42,
   "metadata": {},
   "outputs": [],
   "source": [
    "#need to encode 'addr_state','emp_length','grade', 'home_ownership','purpose', \n",
    "#               'sub_grade', 'term', 'verification_status','initial_list_status'"
   ]
  },
  {
   "cell_type": "code",
   "execution_count": 43,
   "metadata": {},
   "outputs": [
    {
     "data": {
      "text/plain": [
       "10+ years    160559\n",
       "2 years       44187\n",
       "3 years       38893\n",
       "< 1 year      34805\n",
       "1 year        32323\n",
       "None          30693\n",
       "5 years       29454\n",
       "4 years       28906\n",
       "6 years       20693\n",
       "8 years       18278\n",
       "9 years       17514\n",
       "7 years       16409\n",
       "Name: emp_length, dtype: int64"
      ]
     },
     "execution_count": 43,
     "metadata": {},
     "output_type": "execute_result"
    }
   ],
   "source": [
    "data['emp_length'].value_counts()"
   ]
  },
  {
   "cell_type": "code",
   "execution_count": 44,
   "metadata": {},
   "outputs": [],
   "source": [
    "#encode emp_length\n",
    "import numpy as np\n",
    "conditions = [\n",
    "    (data['emp_length'] == '1 year'),\n",
    "    (data['emp_length'] == '10+ years'),\n",
    "    (data['emp_length'] == '2 years'),\n",
    "    (data['emp_length'] == '3 years'),\n",
    "    (data['emp_length'] == '4 years'),\n",
    "    (data['emp_length'] == '5 years'),\n",
    "    (data['emp_length'] == '6 years'),\n",
    "    (data['emp_length'] == '7 years'),\n",
    "    (data['emp_length'] == '8 years'),\n",
    "    (data['emp_length'] == '9 years'),\n",
    "    (data['emp_length'] == '< 1 year'),\n",
    "    (data['emp_length']=='None')\n",
    "    ]\n",
    "values = [1, 10, 2, 3, 4, 5, 6, 7, 8, 9, .5, 0]\n",
    "data['emp_length_enc']=np.select(conditions, values)"
   ]
  },
  {
   "cell_type": "code",
   "execution_count": 45,
   "metadata": {},
   "outputs": [
    {
     "data": {
      "text/plain": [
       "C    143606\n",
       "B    139012\n",
       "A     82331\n",
       "D     67075\n",
       "E     27710\n",
       "F      9569\n",
       "G      3411\n",
       "Name: grade, dtype: int64"
      ]
     },
     "execution_count": 45,
     "metadata": {},
     "output_type": "execute_result"
    }
   ],
   "source": [
    "#encode grade\n",
    "data['grade'].value_counts()"
   ]
  },
  {
   "cell_type": "code",
   "execution_count": 46,
   "metadata": {},
   "outputs": [],
   "source": [
    "conditions = [\n",
    "    (data['grade'] == 'A'),\n",
    "    (data['grade'] == 'B'),\n",
    "    (data['grade'] == 'C'),\n",
    "    (data['grade'] == 'D'),\n",
    "    (data['grade'] == 'E'),\n",
    "    (data['grade'] == 'F'),\n",
    "    (data['grade'] == 'G')\n",
    "    ]\n",
    "\n",
    "values = [1, 2, 3, 4, 5, 6, 7]\n",
    "data['grade_enc']=np.select(conditions, values)"
   ]
  },
  {
   "cell_type": "code",
   "execution_count": 47,
   "metadata": {},
   "outputs": [
    {
     "data": {
      "text/plain": [
       "A1    19628\n",
       "A2    13623\n",
       "A3    13474\n",
       "A4    16524\n",
       "A5    19082\n",
       "B1    25790\n",
       "B2    24943\n",
       "B3    26357\n",
       "B4    28745\n",
       "B5    33177\n",
       "C1    33120\n",
       "C2    28456\n",
       "C3    26902\n",
       "C4    27940\n",
       "C5    27188\n",
       "D1    16803\n",
       "D2    15825\n",
       "D3    13595\n",
       "D4    11348\n",
       "D5     9504\n",
       "E1     6809\n",
       "E2     5755\n",
       "E3     5214\n",
       "E4     4743\n",
       "E5     5189\n",
       "F1     2997\n",
       "F2     2029\n",
       "F3     1738\n",
       "F4     1476\n",
       "F5     1329\n",
       "G1     1008\n",
       "G2      702\n",
       "G3      610\n",
       "G4      585\n",
       "G5      506\n",
       "Name: sub_grade, dtype: int64"
      ]
     },
     "execution_count": 47,
     "metadata": {},
     "output_type": "execute_result"
    }
   ],
   "source": [
    "data['sub_grade'].value_counts().sort_index()"
   ]
  },
  {
   "cell_type": "code",
   "execution_count": 48,
   "metadata": {},
   "outputs": [],
   "source": [
    "conditions = [\n",
    "    (data['sub_grade'] == 'A1'),\n",
    "    (data['sub_grade'] == 'A2'),\n",
    "    (data['sub_grade'] == 'A3'),\n",
    "    (data['sub_grade'] == 'A4'),\n",
    "    (data['sub_grade'] == 'A5'),\n",
    "    (data['sub_grade'] == 'B1'),\n",
    "    (data['sub_grade'] == 'B2'),\n",
    "    (data['sub_grade'] == 'B3'),\n",
    "    (data['sub_grade'] == 'B4'),\n",
    "    (data['sub_grade'] == 'B5'),\n",
    "    (data['sub_grade'] == 'C1'),\n",
    "    (data['sub_grade'] == 'C2'),\n",
    "    (data['sub_grade'] == 'C3'),\n",
    "    (data['sub_grade'] == 'C4'),\n",
    "    (data['sub_grade'] == 'C5'),\n",
    "    (data['sub_grade'] == 'D1'),\n",
    "    (data['sub_grade'] == 'D2'),\n",
    "    (data['sub_grade'] == 'D3'),\n",
    "    (data['sub_grade'] == 'D4'),\n",
    "    (data['sub_grade'] == 'D5'),\n",
    "    (data['sub_grade'] == 'E1'),\n",
    "    (data['sub_grade'] == 'E2'),\n",
    "    (data['sub_grade'] == 'E3'),\n",
    "    (data['sub_grade'] == 'E4'),\n",
    "    (data['sub_grade'] == 'E5'),\n",
    "    (data['sub_grade'] == 'F1'),\n",
    "    (data['sub_grade'] == 'F2'),\n",
    "    (data['sub_grade'] == 'F3'),\n",
    "    (data['sub_grade'] == 'F4'),\n",
    "    (data['sub_grade'] == 'F5'),\n",
    "    (data['sub_grade'] == 'G1'),\n",
    "    (data['sub_grade'] == 'G2'),\n",
    "    (data['sub_grade'] == 'G3'),\n",
    "    (data['sub_grade'] == 'G4'),\n",
    "    (data['sub_grade'] == 'G5')\n",
    "    ]\n",
    "values = [1, 2, 3, 4, 5, 6, 7, 8, 9, 10, 11, 12, 13, 14, 15, 16, 17, 18, 19, 20, 21, 22, 23, 24, 25, 26, 27, 28, 29, 30, 31, 32, 33, 34, 35]\n",
    "data['sub_grade_enc']=np.select(conditions, values)\n"
   ]
  },
  {
   "cell_type": "code",
   "execution_count": 49,
   "metadata": {},
   "outputs": [],
   "source": [
    "from sklearn.preprocessing import OrdinalEncoder\n",
    "ordinalencoder = OrdinalEncoder()"
   ]
  },
  {
   "cell_type": "code",
   "execution_count": 50,
   "metadata": {},
   "outputs": [],
   "source": [
    "#create new columns, fill with random info because about to change it anyway\n",
    "data[['addr_state_enc']]=data[['initial_list_status']]\n",
    "data[['home_ownership_enc']]=data[['initial_list_status']]\n",
    "data[['purpose_enc']]=data[['initial_list_status']]\n",
    "data[['term_enc']]=data[['initial_list_status']]\n",
    "data[['verification_status_enc']]=data[['initial_list_status']]\n",
    "data[['initial_list_status_enc']]=data[['initial_list_status']]"
   ]
  },
  {
   "cell_type": "code",
   "execution_count": 51,
   "metadata": {},
   "outputs": [],
   "source": [
    "data[['addr_state_enc']]=ordinalencoder.fit_transform(data[['addr_state']])\n",
    "data[['home_ownership_enc']]=ordinalencoder.fit_transform(data[['home_ownership']])\n",
    "data[['purpose_enc']]=ordinalencoder.fit_transform(data[['purpose']])\n",
    "data[['term_enc']]=ordinalencoder.fit_transform(data[['term']])\n",
    "data[['verification_status_enc']]=ordinalencoder.fit_transform(data[['verification_status']])\n",
    "data[['initial_list_status_enc']]=ordinalencoder.fit_transform(data[['initial_list_status']])"
   ]
  },
  {
   "cell_type": "code",
   "execution_count": 52,
   "metadata": {},
   "outputs": [
    {
     "data": {
      "text/plain": [
       "array(['acc_open_past_24mths', 'addr_state', 'all_util', 'annual_inc',\n",
       "       'application_type', 'avg_cur_bal', 'delinq_2yrs', 'dti',\n",
       "       'emp_length', 'fico_range_high', 'fico_range_low',\n",
       "       'funded_amnt_inv', 'grade', 'home_ownership', 'inq_fi',\n",
       "       'initial_list_status', 'inq_last_12m', 'inq_last_6mths',\n",
       "       'installment', 'int_rate', 'issue_d', 'loan_amnt', 'loan_status',\n",
       "       'mo_sin_old_rev_tl_op', 'mort_acc', 'num_accts_ever_120_pd',\n",
       "       'num_actv_bc_tl', 'num_actv_rev_tl', 'num_bc_sats', 'num_bc_tl',\n",
       "       'num_il_tl', 'num_op_rev_tl', 'num_rev_accts',\n",
       "       'num_rev_tl_bal_gt_0', 'num_sats', 'num_tl_90g_dpd_24m',\n",
       "       'num_tl_op_past_12m', 'open_acc', 'open_acc_6m', 'open_il_12m',\n",
       "       'open_il_24m', 'open_act_il', 'open_rv_12m', 'open_rv_24m',\n",
       "       'pct_tl_nvr_dlq', 'revol_bal', 'revol_util', 'pub_rec',\n",
       "       'pub_rec_bankruptcies', 'purpose', 'sub_grade', 'tax_liens',\n",
       "       'term', 'tot_coll_amt', 'total_acc', 'total_pymnt_inv',\n",
       "       'total_cu_tl', 'verification_status', 'year', 'avg_fico_score',\n",
       "       'Profit_Percentage_Inv', 'Profit_Percentage_Inv_Range',\n",
       "       'emp_length_enc', 'grade_enc', 'sub_grade_enc', 'addr_state_enc',\n",
       "       'home_ownership_enc', 'purpose_enc', 'term_enc',\n",
       "       'verification_status_enc', 'initial_list_status_enc'], dtype=object)"
      ]
     },
     "execution_count": 52,
     "metadata": {},
     "output_type": "execute_result"
    }
   ],
   "source": [
    "data.columns.values"
   ]
  },
  {
   "cell_type": "code",
   "execution_count": 54,
   "metadata": {},
   "outputs": [],
   "source": [
    "features=data[['acc_open_past_24mths','all_util', 'annual_inc',\n",
    "               'avg_cur_bal', 'delinq_2yrs', 'dti','inq_fi',\n",
    "       'inq_last_12m', 'inq_last_6mths',\n",
    "       'installment', 'int_rate', 'loan_amnt',\n",
    "       'mo_sin_old_rev_tl_op', 'mort_acc', 'num_accts_ever_120_pd',\n",
    "       'num_actv_bc_tl', 'num_actv_rev_tl', 'num_bc_sats', 'num_bc_tl',\n",
    "       'num_il_tl', 'num_op_rev_tl', 'num_rev_accts',\n",
    "       'num_rev_tl_bal_gt_0', 'num_sats', 'num_tl_90g_dpd_24m',\n",
    "       'num_tl_op_past_12m', 'open_acc', 'open_acc_6m', 'open_il_12m',\n",
    "       'open_il_24m', 'open_act_il', 'open_rv_12m', 'open_rv_24m',\n",
    "       'pct_tl_nvr_dlq', 'revol_bal', 'revol_util', 'pub_rec',\n",
    "       'pub_rec_bankruptcies', 'tax_liens',\n",
    "       'tot_coll_amt', 'total_acc',\n",
    "       'total_cu_tl','avg_fico_score',\n",
    "       'emp_length_enc', 'grade_enc', 'sub_grade_enc', 'addr_state_enc',\n",
    "       'home_ownership_enc', 'purpose_enc', 'term_enc',\n",
    "       'verification_status_enc','initial_list_status_enc']]"
   ]
  },
  {
   "cell_type": "code",
   "execution_count": 55,
   "metadata": {},
   "outputs": [
    {
     "data": {
      "text/plain": [
       "(472714, 52)"
      ]
     },
     "execution_count": 55,
     "metadata": {},
     "output_type": "execute_result"
    }
   ],
   "source": [
    "features.shape"
   ]
  },
  {
   "cell_type": "code",
   "execution_count": 56,
   "metadata": {},
   "outputs": [
    {
     "data": {
      "text/plain": [
       "acc_open_past_24mths       float64\n",
       "all_util                   float64\n",
       "annual_inc                 float64\n",
       "avg_cur_bal                float64\n",
       "delinq_2yrs                float64\n",
       "dti                        float64\n",
       "inq_fi                     float64\n",
       "inq_last_12m               float64\n",
       "inq_last_6mths             float64\n",
       "installment                float64\n",
       "int_rate                   float64\n",
       "loan_amnt                  float64\n",
       "mo_sin_old_rev_tl_op       float64\n",
       "mort_acc                   float64\n",
       "num_accts_ever_120_pd      float64\n",
       "num_actv_bc_tl             float64\n",
       "num_actv_rev_tl            float64\n",
       "num_bc_sats                float64\n",
       "num_bc_tl                  float64\n",
       "num_il_tl                  float64\n",
       "num_op_rev_tl              float64\n",
       "num_rev_accts              float64\n",
       "num_rev_tl_bal_gt_0        float64\n",
       "num_sats                   float64\n",
       "num_tl_90g_dpd_24m         float64\n",
       "num_tl_op_past_12m         float64\n",
       "open_acc                   float64\n",
       "open_acc_6m                float64\n",
       "open_il_12m                float64\n",
       "open_il_24m                float64\n",
       "open_act_il                float64\n",
       "open_rv_12m                float64\n",
       "open_rv_24m                float64\n",
       "pct_tl_nvr_dlq             float64\n",
       "revol_bal                  float64\n",
       "revol_util                 float64\n",
       "pub_rec                    float64\n",
       "pub_rec_bankruptcies       float64\n",
       "tax_liens                  float64\n",
       "tot_coll_amt               float64\n",
       "total_acc                  float64\n",
       "total_cu_tl                float64\n",
       "avg_fico_score             float64\n",
       "emp_length_enc             float64\n",
       "grade_enc                    int64\n",
       "sub_grade_enc                int64\n",
       "addr_state_enc             float64\n",
       "home_ownership_enc         float64\n",
       "purpose_enc                float64\n",
       "term_enc                   float64\n",
       "verification_status_enc    float64\n",
       "initial_list_status_enc    float64\n",
       "dtype: object"
      ]
     },
     "execution_count": 56,
     "metadata": {},
     "output_type": "execute_result"
    }
   ],
   "source": [
    "features.dtypes"
   ]
  },
  {
   "cell_type": "code",
   "execution_count": 149,
   "metadata": {},
   "outputs": [],
   "source": [
    "target=data[['Profit_Percentage_Inv_Range']]"
   ]
  },
  {
   "cell_type": "code",
   "execution_count": 150,
   "metadata": {},
   "outputs": [],
   "source": [
    "from sklearn.model_selection import train_test_split\n",
    "xtrain, xtest, ytrain, ytest = train_test_split(features, target, test_size=0.3, random_state=42)"
   ]
  },
  {
   "cell_type": "code",
   "execution_count": 151,
   "metadata": {},
   "outputs": [
    {
     "data": {
      "text/plain": [
       "Remaining loans                                    450028\n",
       "The ~5% of loans with highest profit percentage     22686\n",
       "Name: Profit_Percentage_Inv_Range, dtype: int64"
      ]
     },
     "execution_count": 151,
     "metadata": {},
     "output_type": "execute_result"
    }
   ],
   "source": [
    "target['Profit_Percentage_Inv_Range'].value_counts()"
   ]
  },
  {
   "cell_type": "code",
   "execution_count": 146,
   "metadata": {},
   "outputs": [],
   "source": [
    "from imblearn.ensemble import BalancedBaggingClassifier"
   ]
  },
  {
   "cell_type": "code",
   "execution_count": 152,
   "metadata": {},
   "outputs": [],
   "source": [
    "baggingclassifier=BalancedBaggingClassifier(n_estimators=700,n_jobs=-1)"
   ]
  },
  {
   "cell_type": "code",
   "execution_count": 153,
   "metadata": {},
   "outputs": [
    {
     "data": {
      "text/plain": [
       "BalancedBaggingClassifier(n_estimators=700, n_jobs=-1)"
      ]
     },
     "execution_count": 153,
     "metadata": {},
     "output_type": "execute_result"
    }
   ],
   "source": [
    "baggingclassifier.fit(xtrain, ytrain.values.ravel())"
   ]
  },
  {
   "cell_type": "code",
   "execution_count": 154,
   "metadata": {},
   "outputs": [
    {
     "data": {
      "text/plain": [
       "0.8282225089831036"
      ]
     },
     "execution_count": 154,
     "metadata": {},
     "output_type": "execute_result"
    }
   ],
   "source": [
    "baggingclassifier.score(xtrain, ytrain.values.ravel())"
   ]
  },
  {
   "cell_type": "code",
   "execution_count": 155,
   "metadata": {},
   "outputs": [
    {
     "data": {
      "text/plain": [
       "0.8188978598878821"
      ]
     },
     "execution_count": 155,
     "metadata": {},
     "output_type": "execute_result"
    }
   ],
   "source": [
    "baggingclassifier.score(xtest, ytest.values.ravel())"
   ]
  },
  {
   "cell_type": "code",
   "execution_count": 167,
   "metadata": {},
   "outputs": [
    {
     "name": "stdout",
     "output_type": "stream",
     "text": [
      "[0.00748043 0.01431635 0.01491257 0.01718542 0.00308331 0.0175648\n",
      " 0.00577605 0.0079603  0.00397289 0.01218425 0.08157909 0.00965706\n",
      " 0.01803905 0.00574293 0.00342397 0.0055827  0.00473149 0.00635878\n",
      " 0.00825556 0.01009    0.00598126 0.00847936 0.00471886 0.00489443\n",
      " 0.00152745 0.0051969  0.00494739 0.00465842 0.00371874 0.00535623\n",
      " 0.006248   0.00425497 0.00620151 0.00914208 0.0155246  0.01699256\n",
      " 0.00194254 0.00178514 0.00135414 0.00527628 0.01015713 0.00707124\n",
      " 0.01122338 0.00742279 0.01290282 0.47168003 0.01328624 0.00240383\n",
      " 0.00540861 0.07750932 0.00311596 0.00172079]\n"
     ]
    }
   ],
   "source": [
    "print(np.mean([est.steps[1][1].feature_importances_ for est in baggingclassifier.estimators_], axis=0))"
   ]
  },
  {
   "cell_type": "code",
   "execution_count": 156,
   "metadata": {},
   "outputs": [
    {
     "data": {
      "text/html": [
       "<div>\n",
       "<style scoped>\n",
       "    .dataframe tbody tr th:only-of-type {\n",
       "        vertical-align: middle;\n",
       "    }\n",
       "\n",
       "    .dataframe tbody tr th {\n",
       "        vertical-align: top;\n",
       "    }\n",
       "\n",
       "    .dataframe thead th {\n",
       "        text-align: right;\n",
       "    }\n",
       "</style>\n",
       "<table border=\"1\" class=\"dataframe\">\n",
       "  <thead>\n",
       "    <tr style=\"text-align: right;\">\n",
       "      <th>Predicted</th>\n",
       "      <th>Remaining loans</th>\n",
       "      <th>The ~5% of loans with highest profit percentage</th>\n",
       "      <th>All</th>\n",
       "    </tr>\n",
       "    <tr>\n",
       "      <th>True</th>\n",
       "      <th></th>\n",
       "      <th></th>\n",
       "      <th></th>\n",
       "    </tr>\n",
       "  </thead>\n",
       "  <tbody>\n",
       "    <tr>\n",
       "      <th>Remaining loans</th>\n",
       "      <td>258141</td>\n",
       "      <td>56841</td>\n",
       "      <td>314982</td>\n",
       "    </tr>\n",
       "    <tr>\n",
       "      <th>The ~5% of loans with highest profit percentage</th>\n",
       "      <td>0</td>\n",
       "      <td>15917</td>\n",
       "      <td>15917</td>\n",
       "    </tr>\n",
       "    <tr>\n",
       "      <th>All</th>\n",
       "      <td>258141</td>\n",
       "      <td>72758</td>\n",
       "      <td>330899</td>\n",
       "    </tr>\n",
       "  </tbody>\n",
       "</table>\n",
       "</div>"
      ],
      "text/plain": [
       "Predicted                                        Remaining loans  \\\n",
       "True                                                               \n",
       "Remaining loans                                           258141   \n",
       "The ~5% of loans with highest profit percentage                0   \n",
       "All                                                       258141   \n",
       "\n",
       "Predicted                                        The ~5% of loans with highest profit percentage  \\\n",
       "True                                                                                               \n",
       "Remaining loans                                                                            56841   \n",
       "The ~5% of loans with highest profit percentage                                            15917   \n",
       "All                                                                                        72758   \n",
       "\n",
       "Predicted                                           All  \n",
       "True                                                     \n",
       "Remaining loans                                  314982  \n",
       "The ~5% of loans with highest profit percentage   15917  \n",
       "All                                              330899  "
      ]
     },
     "execution_count": 156,
     "metadata": {},
     "output_type": "execute_result"
    }
   ],
   "source": [
    "pd.crosstab(ytrain.squeeze(), baggingclassifier.predict(xtrain), rownames=['True'], colnames=['Predicted'], margins=True)\n"
   ]
  },
  {
   "cell_type": "code",
   "execution_count": 157,
   "metadata": {},
   "outputs": [
    {
     "data": {
      "text/html": [
       "<div>\n",
       "<style scoped>\n",
       "    .dataframe tbody tr th:only-of-type {\n",
       "        vertical-align: middle;\n",
       "    }\n",
       "\n",
       "    .dataframe tbody tr th {\n",
       "        vertical-align: top;\n",
       "    }\n",
       "\n",
       "    .dataframe thead th {\n",
       "        text-align: right;\n",
       "    }\n",
       "</style>\n",
       "<table border=\"1\" class=\"dataframe\">\n",
       "  <thead>\n",
       "    <tr style=\"text-align: right;\">\n",
       "      <th>Predicted</th>\n",
       "      <th>Remaining loans</th>\n",
       "      <th>The ~5% of loans with highest profit percentage</th>\n",
       "      <th>All</th>\n",
       "    </tr>\n",
       "    <tr>\n",
       "      <th>True</th>\n",
       "      <th></th>\n",
       "      <th></th>\n",
       "      <th></th>\n",
       "    </tr>\n",
       "  </thead>\n",
       "  <tbody>\n",
       "    <tr>\n",
       "      <th>Remaining loans</th>\n",
       "      <td>109820</td>\n",
       "      <td>25226</td>\n",
       "      <td>135046</td>\n",
       "    </tr>\n",
       "    <tr>\n",
       "      <th>The ~5% of loans with highest profit percentage</th>\n",
       "      <td>457</td>\n",
       "      <td>6312</td>\n",
       "      <td>6769</td>\n",
       "    </tr>\n",
       "    <tr>\n",
       "      <th>All</th>\n",
       "      <td>110277</td>\n",
       "      <td>31538</td>\n",
       "      <td>141815</td>\n",
       "    </tr>\n",
       "  </tbody>\n",
       "</table>\n",
       "</div>"
      ],
      "text/plain": [
       "Predicted                                        Remaining loans  \\\n",
       "True                                                               \n",
       "Remaining loans                                           109820   \n",
       "The ~5% of loans with highest profit percentage              457   \n",
       "All                                                       110277   \n",
       "\n",
       "Predicted                                        The ~5% of loans with highest profit percentage  \\\n",
       "True                                                                                               \n",
       "Remaining loans                                                                            25226   \n",
       "The ~5% of loans with highest profit percentage                                             6312   \n",
       "All                                                                                        31538   \n",
       "\n",
       "Predicted                                           All  \n",
       "True                                                     \n",
       "Remaining loans                                  135046  \n",
       "The ~5% of loans with highest profit percentage    6769  \n",
       "All                                              141815  "
      ]
     },
     "execution_count": 157,
     "metadata": {},
     "output_type": "execute_result"
    }
   ],
   "source": [
    "pd.crosstab(ytest.squeeze(), baggingclassifier.predict(xtest), rownames=['True'], colnames=['Predicted'], margins=True)\n"
   ]
  },
  {
   "cell_type": "code",
   "execution_count": 398,
   "metadata": {},
   "outputs": [
    {
     "data": {
      "text/html": [
       "<div>\n",
       "<style scoped>\n",
       "    .dataframe tbody tr th:only-of-type {\n",
       "        vertical-align: middle;\n",
       "    }\n",
       "\n",
       "    .dataframe tbody tr th {\n",
       "        vertical-align: top;\n",
       "    }\n",
       "\n",
       "    .dataframe thead th {\n",
       "        text-align: right;\n",
       "    }\n",
       "</style>\n",
       "<table border=\"1\" class=\"dataframe\">\n",
       "  <thead>\n",
       "    <tr style=\"text-align: right;\">\n",
       "      <th></th>\n",
       "      <th>Profit_Percentage_Inv_Range</th>\n",
       "    </tr>\n",
       "  </thead>\n",
       "  <tbody>\n",
       "    <tr>\n",
       "      <th>1955821</th>\n",
       "      <td>Remaining loans</td>\n",
       "    </tr>\n",
       "    <tr>\n",
       "      <th>1710324</th>\n",
       "      <td>Remaining loans</td>\n",
       "    </tr>\n",
       "    <tr>\n",
       "      <th>2201480</th>\n",
       "      <td>Remaining loans</td>\n",
       "    </tr>\n",
       "    <tr>\n",
       "      <th>1097730</th>\n",
       "      <td>Remaining loans</td>\n",
       "    </tr>\n",
       "    <tr>\n",
       "      <th>2235566</th>\n",
       "      <td>Remaining loans</td>\n",
       "    </tr>\n",
       "  </tbody>\n",
       "</table>\n",
       "</div>"
      ],
      "text/plain": [
       "        Profit_Percentage_Inv_Range\n",
       "1955821             Remaining loans\n",
       "1710324             Remaining loans\n",
       "2201480             Remaining loans\n",
       "1097730             Remaining loans\n",
       "2235566             Remaining loans"
      ]
     },
     "execution_count": 398,
     "metadata": {},
     "output_type": "execute_result"
    }
   ],
   "source": [
    "ytest.sample(5)"
   ]
  },
  {
   "cell_type": "code",
   "execution_count": 381,
   "metadata": {},
   "outputs": [],
   "source": [
    "df=pd.merge(data[['Profit_Percentage_Inv']],ytest, how='right',left_index=True,right_index=True)"
   ]
  },
  {
   "cell_type": "code",
   "execution_count": 382,
   "metadata": {},
   "outputs": [],
   "source": [
    "df['Predicted']=baggingclassifier.predict(xtest)"
   ]
  },
  {
   "cell_type": "code",
   "execution_count": 383,
   "metadata": {},
   "outputs": [
    {
     "data": {
      "text/html": [
       "<div>\n",
       "<style scoped>\n",
       "    .dataframe tbody tr th:only-of-type {\n",
       "        vertical-align: middle;\n",
       "    }\n",
       "\n",
       "    .dataframe tbody tr th {\n",
       "        vertical-align: top;\n",
       "    }\n",
       "\n",
       "    .dataframe thead th {\n",
       "        text-align: right;\n",
       "    }\n",
       "</style>\n",
       "<table border=\"1\" class=\"dataframe\">\n",
       "  <thead>\n",
       "    <tr style=\"text-align: right;\">\n",
       "      <th></th>\n",
       "      <th>Profit_Percentage_Inv</th>\n",
       "      <th>Profit_Percentage_Inv_Range</th>\n",
       "      <th>Predicted</th>\n",
       "    </tr>\n",
       "  </thead>\n",
       "  <tbody>\n",
       "    <tr>\n",
       "      <th>1073800</th>\n",
       "      <td>-74.0</td>\n",
       "      <td>Remaining loans</td>\n",
       "      <td>The ~5% of loans with highest profit percentage</td>\n",
       "    </tr>\n",
       "    <tr>\n",
       "      <th>545262</th>\n",
       "      <td>10.0</td>\n",
       "      <td>Remaining loans</td>\n",
       "      <td>Remaining loans</td>\n",
       "    </tr>\n",
       "    <tr>\n",
       "      <th>901439</th>\n",
       "      <td>-58.0</td>\n",
       "      <td>Remaining loans</td>\n",
       "      <td>Remaining loans</td>\n",
       "    </tr>\n",
       "    <tr>\n",
       "      <th>2254219</th>\n",
       "      <td>13.0</td>\n",
       "      <td>Remaining loans</td>\n",
       "      <td>The ~5% of loans with highest profit percentage</td>\n",
       "    </tr>\n",
       "    <tr>\n",
       "      <th>912485</th>\n",
       "      <td>19.0</td>\n",
       "      <td>Remaining loans</td>\n",
       "      <td>Remaining loans</td>\n",
       "    </tr>\n",
       "    <tr>\n",
       "      <th>525466</th>\n",
       "      <td>11.0</td>\n",
       "      <td>Remaining loans</td>\n",
       "      <td>Remaining loans</td>\n",
       "    </tr>\n",
       "    <tr>\n",
       "      <th>523296</th>\n",
       "      <td>3.0</td>\n",
       "      <td>Remaining loans</td>\n",
       "      <td>Remaining loans</td>\n",
       "    </tr>\n",
       "    <tr>\n",
       "      <th>2225120</th>\n",
       "      <td>17.0</td>\n",
       "      <td>Remaining loans</td>\n",
       "      <td>Remaining loans</td>\n",
       "    </tr>\n",
       "    <tr>\n",
       "      <th>2010399</th>\n",
       "      <td>11.0</td>\n",
       "      <td>Remaining loans</td>\n",
       "      <td>Remaining loans</td>\n",
       "    </tr>\n",
       "    <tr>\n",
       "      <th>2056984</th>\n",
       "      <td>7.0</td>\n",
       "      <td>Remaining loans</td>\n",
       "      <td>Remaining loans</td>\n",
       "    </tr>\n",
       "  </tbody>\n",
       "</table>\n",
       "</div>"
      ],
      "text/plain": [
       "         Profit_Percentage_Inv Profit_Percentage_Inv_Range  \\\n",
       "1073800                  -74.0             Remaining loans   \n",
       "545262                    10.0             Remaining loans   \n",
       "901439                   -58.0             Remaining loans   \n",
       "2254219                   13.0             Remaining loans   \n",
       "912485                    19.0             Remaining loans   \n",
       "525466                    11.0             Remaining loans   \n",
       "523296                     3.0             Remaining loans   \n",
       "2225120                   17.0             Remaining loans   \n",
       "2010399                   11.0             Remaining loans   \n",
       "2056984                    7.0             Remaining loans   \n",
       "\n",
       "                                               Predicted  \n",
       "1073800  The ~5% of loans with highest profit percentage  \n",
       "545262                                   Remaining loans  \n",
       "901439                                   Remaining loans  \n",
       "2254219  The ~5% of loans with highest profit percentage  \n",
       "912485                                   Remaining loans  \n",
       "525466                                   Remaining loans  \n",
       "523296                                   Remaining loans  \n",
       "2225120                                  Remaining loans  \n",
       "2010399                                  Remaining loans  \n",
       "2056984                                  Remaining loans  "
      ]
     },
     "execution_count": 383,
     "metadata": {},
     "output_type": "execute_result"
    }
   ],
   "source": [
    "df.sample(10)"
   ]
  },
  {
   "cell_type": "code",
   "execution_count": 386,
   "metadata": {},
   "outputs": [],
   "source": [
    "predictedwrong=df[df['Predicted']!=df['Profit_Percentage_Inv_Range']]"
   ]
  },
  {
   "cell_type": "code",
   "execution_count": 387,
   "metadata": {},
   "outputs": [
    {
     "data": {
      "text/html": [
       "<div>\n",
       "<style scoped>\n",
       "    .dataframe tbody tr th:only-of-type {\n",
       "        vertical-align: middle;\n",
       "    }\n",
       "\n",
       "    .dataframe tbody tr th {\n",
       "        vertical-align: top;\n",
       "    }\n",
       "\n",
       "    .dataframe thead th {\n",
       "        text-align: right;\n",
       "    }\n",
       "</style>\n",
       "<table border=\"1\" class=\"dataframe\">\n",
       "  <thead>\n",
       "    <tr style=\"text-align: right;\">\n",
       "      <th></th>\n",
       "      <th>Profit_Percentage_Inv</th>\n",
       "      <th>Profit_Percentage_Inv_Range</th>\n",
       "      <th>Predicted</th>\n",
       "    </tr>\n",
       "  </thead>\n",
       "  <tbody>\n",
       "    <tr>\n",
       "      <th>2240199</th>\n",
       "      <td>-42.0</td>\n",
       "      <td>Remaining loans</td>\n",
       "      <td>The ~5% of loans with highest profit percentage</td>\n",
       "    </tr>\n",
       "    <tr>\n",
       "      <th>2164215</th>\n",
       "      <td>-23.0</td>\n",
       "      <td>Remaining loans</td>\n",
       "      <td>The ~5% of loans with highest profit percentage</td>\n",
       "    </tr>\n",
       "    <tr>\n",
       "      <th>1666506</th>\n",
       "      <td>-40.0</td>\n",
       "      <td>Remaining loans</td>\n",
       "      <td>The ~5% of loans with highest profit percentage</td>\n",
       "    </tr>\n",
       "    <tr>\n",
       "      <th>1677152</th>\n",
       "      <td>-62.0</td>\n",
       "      <td>Remaining loans</td>\n",
       "      <td>The ~5% of loans with highest profit percentage</td>\n",
       "    </tr>\n",
       "    <tr>\n",
       "      <th>679037</th>\n",
       "      <td>13.0</td>\n",
       "      <td>Remaining loans</td>\n",
       "      <td>The ~5% of loans with highest profit percentage</td>\n",
       "    </tr>\n",
       "    <tr>\n",
       "      <th>2006538</th>\n",
       "      <td>8.0</td>\n",
       "      <td>Remaining loans</td>\n",
       "      <td>The ~5% of loans with highest profit percentage</td>\n",
       "    </tr>\n",
       "    <tr>\n",
       "      <th>1045651</th>\n",
       "      <td>-77.0</td>\n",
       "      <td>Remaining loans</td>\n",
       "      <td>The ~5% of loans with highest profit percentage</td>\n",
       "    </tr>\n",
       "    <tr>\n",
       "      <th>1059917</th>\n",
       "      <td>22.0</td>\n",
       "      <td>Remaining loans</td>\n",
       "      <td>The ~5% of loans with highest profit percentage</td>\n",
       "    </tr>\n",
       "    <tr>\n",
       "      <th>1078155</th>\n",
       "      <td>-49.0</td>\n",
       "      <td>Remaining loans</td>\n",
       "      <td>The ~5% of loans with highest profit percentage</td>\n",
       "    </tr>\n",
       "    <tr>\n",
       "      <th>707699</th>\n",
       "      <td>14.0</td>\n",
       "      <td>Remaining loans</td>\n",
       "      <td>The ~5% of loans with highest profit percentage</td>\n",
       "    </tr>\n",
       "  </tbody>\n",
       "</table>\n",
       "</div>"
      ],
      "text/plain": [
       "         Profit_Percentage_Inv Profit_Percentage_Inv_Range  \\\n",
       "2240199                  -42.0             Remaining loans   \n",
       "2164215                  -23.0             Remaining loans   \n",
       "1666506                  -40.0             Remaining loans   \n",
       "1677152                  -62.0             Remaining loans   \n",
       "679037                    13.0             Remaining loans   \n",
       "2006538                    8.0             Remaining loans   \n",
       "1045651                  -77.0             Remaining loans   \n",
       "1059917                   22.0             Remaining loans   \n",
       "1078155                  -49.0             Remaining loans   \n",
       "707699                    14.0             Remaining loans   \n",
       "\n",
       "                                               Predicted  \n",
       "2240199  The ~5% of loans with highest profit percentage  \n",
       "2164215  The ~5% of loans with highest profit percentage  \n",
       "1666506  The ~5% of loans with highest profit percentage  \n",
       "1677152  The ~5% of loans with highest profit percentage  \n",
       "679037   The ~5% of loans with highest profit percentage  \n",
       "2006538  The ~5% of loans with highest profit percentage  \n",
       "1045651  The ~5% of loans with highest profit percentage  \n",
       "1059917  The ~5% of loans with highest profit percentage  \n",
       "1078155  The ~5% of loans with highest profit percentage  \n",
       "707699   The ~5% of loans with highest profit percentage  "
      ]
     },
     "execution_count": 387,
     "metadata": {},
     "output_type": "execute_result"
    }
   ],
   "source": [
    "predictedwrong.sample(10)"
   ]
  },
  {
   "cell_type": "code",
   "execution_count": 388,
   "metadata": {},
   "outputs": [],
   "source": [
    "predictedwrongthatintop5=predictedwrong[predictedwrong['Profit_Percentage_Inv_Range']=='Remaining loans']"
   ]
  },
  {
   "cell_type": "code",
   "execution_count": 389,
   "metadata": {},
   "outputs": [
    {
     "data": {
      "text/plain": [
       "-18.50261634821216"
      ]
     },
     "execution_count": 389,
     "metadata": {},
     "output_type": "execute_result"
    }
   ],
   "source": [
    "predictedwrongthatintop5['Profit_Percentage_Inv'].mean()"
   ]
  },
  {
   "cell_type": "code",
   "execution_count": 397,
   "metadata": {},
   "outputs": [
    {
     "data": {
      "text/plain": [
       "-5.019112006279342"
      ]
     },
     "execution_count": 397,
     "metadata": {},
     "output_type": "execute_result"
    }
   ],
   "source": [
    "df[df['Profit_Percentage_Inv_Range']=='Remaining loans']['Profit_Percentage_Inv'].mean()"
   ]
  },
  {
   "cell_type": "code",
   "execution_count": 391,
   "metadata": {},
   "outputs": [
    {
     "data": {
      "text/plain": [
       "<matplotlib.axes._subplots.AxesSubplot at 0x7ff01de98850>"
      ]
     },
     "execution_count": 391,
     "metadata": {},
     "output_type": "execute_result"
    },
    {
     "data": {
      "image/png": "[encoded data removed]",
      "text/plain": [
       "<Figure size 432x216 with 1 Axes>"
      ]
     },
     "metadata": {},
     "output_type": "display_data"
    }
   ],
   "source": [
    "sns.distplot(predictedwrongthatintop5['Profit_Percentage_Inv'])"
   ]
  },
  {
   "cell_type": "code",
   "execution_count": 396,
   "metadata": {},
   "outputs": [
    {
     "data": {
      "text/plain": [
       "<matplotlib.axes._subplots.AxesSubplot at 0x7ff02b64f760>"
      ]
     },
     "execution_count": 396,
     "metadata": {},
     "output_type": "execute_result"
    },
    {
     "data": {
      "image/png": "[encoded data removed]",
      "text/plain": [
       "<Figure size 432x216 with 1 Axes>"
      ]
     },
     "metadata": {},
     "output_type": "display_data"
    }
   ],
   "source": [
    "sns.distplot(df[df['Profit_Percentage_Inv_Range']=='Remaining loans']['Profit_Percentage_Inv'])"
   ]
  },
  {
   "cell_type": "code",
   "execution_count": 211,
   "metadata": {},
   "outputs": [
    {
     "data": {
      "text/plain": [
       "0.9324863347614123"
      ]
     },
     "execution_count": 211,
     "metadata": {},
     "output_type": "execute_result"
    }
   ],
   "source": [
    "#Sensitivity:\n",
    "6312/(6312+457)"
   ]
  },
  {
   "cell_type": "code",
   "execution_count": 212,
   "metadata": {},
   "outputs": [
    {
     "data": {
      "text/plain": [
       "0.8132043896153903"
      ]
     },
     "execution_count": 212,
     "metadata": {},
     "output_type": "execute_result"
    }
   ],
   "source": [
    "#Specificity:\n",
    "109820/(109820+25226)"
   ]
  },
  {
   "cell_type": "code",
   "execution_count": 303,
   "metadata": {},
   "outputs": [],
   "source": [
    "feature_importance=pd.DataFrame(np.mean([est.steps[1][1].feature_importances_ for est in baggingclassifier.estimators_], axis=0),index=xtrain.columns,columns=['Feature Importance']).sort_values('Feature Importance',ascending=False)"
   ]
  },
  {
   "cell_type": "code",
   "execution_count": 304,
   "metadata": {},
   "outputs": [],
   "source": [
    "feature_importance.reset_index(level=0, inplace=True)"
   ]
  },
  {
   "cell_type": "code",
   "execution_count": 308,
   "metadata": {},
   "outputs": [],
   "source": [
    "feature_importance.rename(columns={'index':'Feature'},inplace=True)"
   ]
  },
  {
   "cell_type": "code",
   "execution_count": 322,
   "metadata": {},
   "outputs": [
    {
     "data": {
      "text/plain": [
       "0.0    368289\n",
       "1.0    104425\n",
       "Name: term_enc, dtype: int64"
      ]
     },
     "execution_count": 322,
     "metadata": {},
     "output_type": "execute_result"
    }
   ],
   "source": [
    "data['term_enc'].value_counts()"
   ]
  },
  {
   "cell_type": "code",
   "execution_count": 309,
   "metadata": {},
   "outputs": [
    {
     "data": {
      "text/html": [
       "<div>\n",
       "<style scoped>\n",
       "    .dataframe tbody tr th:only-of-type {\n",
       "        vertical-align: middle;\n",
       "    }\n",
       "\n",
       "    .dataframe tbody tr th {\n",
       "        vertical-align: top;\n",
       "    }\n",
       "\n",
       "    .dataframe thead th {\n",
       "        text-align: right;\n",
       "    }\n",
       "</style>\n",
       "<table border=\"1\" class=\"dataframe\">\n",
       "  <thead>\n",
       "    <tr style=\"text-align: right;\">\n",
       "      <th></th>\n",
       "      <th>Feature</th>\n",
       "      <th>Feature Importance</th>\n",
       "    </tr>\n",
       "  </thead>\n",
       "  <tbody>\n",
       "    <tr>\n",
       "      <th>0</th>\n",
       "      <td>sub_grade_enc</td>\n",
       "      <td>0.471680</td>\n",
       "    </tr>\n",
       "    <tr>\n",
       "      <th>1</th>\n",
       "      <td>int_rate</td>\n",
       "      <td>0.081579</td>\n",
       "    </tr>\n",
       "    <tr>\n",
       "      <th>2</th>\n",
       "      <td>term_enc</td>\n",
       "      <td>0.077509</td>\n",
       "    </tr>\n",
       "    <tr>\n",
       "      <th>3</th>\n",
       "      <td>mo_sin_old_rev_tl_op</td>\n",
       "      <td>0.018039</td>\n",
       "    </tr>\n",
       "    <tr>\n",
       "      <th>4</th>\n",
       "      <td>dti</td>\n",
       "      <td>0.017565</td>\n",
       "    </tr>\n",
       "    <tr>\n",
       "      <th>5</th>\n",
       "      <td>avg_cur_bal</td>\n",
       "      <td>0.017185</td>\n",
       "    </tr>\n",
       "    <tr>\n",
       "      <th>6</th>\n",
       "      <td>revol_util</td>\n",
       "      <td>0.016993</td>\n",
       "    </tr>\n",
       "    <tr>\n",
       "      <th>7</th>\n",
       "      <td>revol_bal</td>\n",
       "      <td>0.015525</td>\n",
       "    </tr>\n",
       "    <tr>\n",
       "      <th>8</th>\n",
       "      <td>annual_inc</td>\n",
       "      <td>0.014913</td>\n",
       "    </tr>\n",
       "    <tr>\n",
       "      <th>9</th>\n",
       "      <td>all_util</td>\n",
       "      <td>0.014316</td>\n",
       "    </tr>\n",
       "    <tr>\n",
       "      <th>10</th>\n",
       "      <td>addr_state_enc</td>\n",
       "      <td>0.013286</td>\n",
       "    </tr>\n",
       "    <tr>\n",
       "      <th>11</th>\n",
       "      <td>grade_enc</td>\n",
       "      <td>0.012903</td>\n",
       "    </tr>\n",
       "    <tr>\n",
       "      <th>12</th>\n",
       "      <td>installment</td>\n",
       "      <td>0.012184</td>\n",
       "    </tr>\n",
       "    <tr>\n",
       "      <th>13</th>\n",
       "      <td>avg_fico_score</td>\n",
       "      <td>0.011223</td>\n",
       "    </tr>\n",
       "    <tr>\n",
       "      <th>14</th>\n",
       "      <td>total_acc</td>\n",
       "      <td>0.010157</td>\n",
       "    </tr>\n",
       "    <tr>\n",
       "      <th>15</th>\n",
       "      <td>num_il_tl</td>\n",
       "      <td>0.010090</td>\n",
       "    </tr>\n",
       "    <tr>\n",
       "      <th>16</th>\n",
       "      <td>loan_amnt</td>\n",
       "      <td>0.009657</td>\n",
       "    </tr>\n",
       "    <tr>\n",
       "      <th>17</th>\n",
       "      <td>pct_tl_nvr_dlq</td>\n",
       "      <td>0.009142</td>\n",
       "    </tr>\n",
       "    <tr>\n",
       "      <th>18</th>\n",
       "      <td>num_rev_accts</td>\n",
       "      <td>0.008479</td>\n",
       "    </tr>\n",
       "    <tr>\n",
       "      <th>19</th>\n",
       "      <td>num_bc_tl</td>\n",
       "      <td>0.008256</td>\n",
       "    </tr>\n",
       "    <tr>\n",
       "      <th>20</th>\n",
       "      <td>inq_last_12m</td>\n",
       "      <td>0.007960</td>\n",
       "    </tr>\n",
       "    <tr>\n",
       "      <th>21</th>\n",
       "      <td>acc_open_past_24mths</td>\n",
       "      <td>0.007480</td>\n",
       "    </tr>\n",
       "    <tr>\n",
       "      <th>22</th>\n",
       "      <td>emp_length_enc</td>\n",
       "      <td>0.007423</td>\n",
       "    </tr>\n",
       "    <tr>\n",
       "      <th>23</th>\n",
       "      <td>total_cu_tl</td>\n",
       "      <td>0.007071</td>\n",
       "    </tr>\n",
       "    <tr>\n",
       "      <th>24</th>\n",
       "      <td>num_bc_sats</td>\n",
       "      <td>0.006359</td>\n",
       "    </tr>\n",
       "    <tr>\n",
       "      <th>25</th>\n",
       "      <td>open_act_il</td>\n",
       "      <td>0.006248</td>\n",
       "    </tr>\n",
       "    <tr>\n",
       "      <th>26</th>\n",
       "      <td>open_rv_24m</td>\n",
       "      <td>0.006202</td>\n",
       "    </tr>\n",
       "    <tr>\n",
       "      <th>27</th>\n",
       "      <td>num_op_rev_tl</td>\n",
       "      <td>0.005981</td>\n",
       "    </tr>\n",
       "    <tr>\n",
       "      <th>28</th>\n",
       "      <td>inq_fi</td>\n",
       "      <td>0.005776</td>\n",
       "    </tr>\n",
       "    <tr>\n",
       "      <th>29</th>\n",
       "      <td>mort_acc</td>\n",
       "      <td>0.005743</td>\n",
       "    </tr>\n",
       "    <tr>\n",
       "      <th>30</th>\n",
       "      <td>num_actv_bc_tl</td>\n",
       "      <td>0.005583</td>\n",
       "    </tr>\n",
       "    <tr>\n",
       "      <th>31</th>\n",
       "      <td>purpose_enc</td>\n",
       "      <td>0.005409</td>\n",
       "    </tr>\n",
       "    <tr>\n",
       "      <th>32</th>\n",
       "      <td>open_il_24m</td>\n",
       "      <td>0.005356</td>\n",
       "    </tr>\n",
       "    <tr>\n",
       "      <th>33</th>\n",
       "      <td>tot_coll_amt</td>\n",
       "      <td>0.005276</td>\n",
       "    </tr>\n",
       "    <tr>\n",
       "      <th>34</th>\n",
       "      <td>num_tl_op_past_12m</td>\n",
       "      <td>0.005197</td>\n",
       "    </tr>\n",
       "    <tr>\n",
       "      <th>35</th>\n",
       "      <td>open_acc</td>\n",
       "      <td>0.004947</td>\n",
       "    </tr>\n",
       "    <tr>\n",
       "      <th>36</th>\n",
       "      <td>num_sats</td>\n",
       "      <td>0.004894</td>\n",
       "    </tr>\n",
       "    <tr>\n",
       "      <th>37</th>\n",
       "      <td>num_actv_rev_tl</td>\n",
       "      <td>0.004731</td>\n",
       "    </tr>\n",
       "    <tr>\n",
       "      <th>38</th>\n",
       "      <td>num_rev_tl_bal_gt_0</td>\n",
       "      <td>0.004719</td>\n",
       "    </tr>\n",
       "    <tr>\n",
       "      <th>39</th>\n",
       "      <td>open_acc_6m</td>\n",
       "      <td>0.004658</td>\n",
       "    </tr>\n",
       "    <tr>\n",
       "      <th>40</th>\n",
       "      <td>open_rv_12m</td>\n",
       "      <td>0.004255</td>\n",
       "    </tr>\n",
       "    <tr>\n",
       "      <th>41</th>\n",
       "      <td>inq_last_6mths</td>\n",
       "      <td>0.003973</td>\n",
       "    </tr>\n",
       "    <tr>\n",
       "      <th>42</th>\n",
       "      <td>open_il_12m</td>\n",
       "      <td>0.003719</td>\n",
       "    </tr>\n",
       "    <tr>\n",
       "      <th>43</th>\n",
       "      <td>num_accts_ever_120_pd</td>\n",
       "      <td>0.003424</td>\n",
       "    </tr>\n",
       "    <tr>\n",
       "      <th>44</th>\n",
       "      <td>verification_status_enc</td>\n",
       "      <td>0.003116</td>\n",
       "    </tr>\n",
       "    <tr>\n",
       "      <th>45</th>\n",
       "      <td>delinq_2yrs</td>\n",
       "      <td>0.003083</td>\n",
       "    </tr>\n",
       "    <tr>\n",
       "      <th>46</th>\n",
       "      <td>home_ownership_enc</td>\n",
       "      <td>0.002404</td>\n",
       "    </tr>\n",
       "    <tr>\n",
       "      <th>47</th>\n",
       "      <td>pub_rec</td>\n",
       "      <td>0.001943</td>\n",
       "    </tr>\n",
       "    <tr>\n",
       "      <th>48</th>\n",
       "      <td>pub_rec_bankruptcies</td>\n",
       "      <td>0.001785</td>\n",
       "    </tr>\n",
       "    <tr>\n",
       "      <th>49</th>\n",
       "      <td>initial_list_status_enc</td>\n",
       "      <td>0.001721</td>\n",
       "    </tr>\n",
       "    <tr>\n",
       "      <th>50</th>\n",
       "      <td>num_tl_90g_dpd_24m</td>\n",
       "      <td>0.001527</td>\n",
       "    </tr>\n",
       "    <tr>\n",
       "      <th>51</th>\n",
       "      <td>tax_liens</td>\n",
       "      <td>0.001354</td>\n",
       "    </tr>\n",
       "  </tbody>\n",
       "</table>\n",
       "</div>"
      ],
      "text/plain": [
       "                    Feature  Feature Importance\n",
       "0             sub_grade_enc            0.471680\n",
       "1                  int_rate            0.081579\n",
       "2                  term_enc            0.077509\n",
       "3      mo_sin_old_rev_tl_op            0.018039\n",
       "4                       dti            0.017565\n",
       "5               avg_cur_bal            0.017185\n",
       "6                revol_util            0.016993\n",
       "7                 revol_bal            0.015525\n",
       "8                annual_inc            0.014913\n",
       "9                  all_util            0.014316\n",
       "10           addr_state_enc            0.013286\n",
       "11                grade_enc            0.012903\n",
       "12              installment            0.012184\n",
       "13           avg_fico_score            0.011223\n",
       "14                total_acc            0.010157\n",
       "15                num_il_tl            0.010090\n",
       "16                loan_amnt            0.009657\n",
       "17           pct_tl_nvr_dlq            0.009142\n",
       "18            num_rev_accts            0.008479\n",
       "19                num_bc_tl            0.008256\n",
       "20             inq_last_12m            0.007960\n",
       "21     acc_open_past_24mths            0.007480\n",
       "22           emp_length_enc            0.007423\n",
       "23              total_cu_tl            0.007071\n",
       "24              num_bc_sats            0.006359\n",
       "25              open_act_il            0.006248\n",
       "26              open_rv_24m            0.006202\n",
       "27            num_op_rev_tl            0.005981\n",
       "28                   inq_fi            0.005776\n",
       "29                 mort_acc            0.005743\n",
       "30           num_actv_bc_tl            0.005583\n",
       "31              purpose_enc            0.005409\n",
       "32              open_il_24m            0.005356\n",
       "33             tot_coll_amt            0.005276\n",
       "34       num_tl_op_past_12m            0.005197\n",
       "35                 open_acc            0.004947\n",
       "36                 num_sats            0.004894\n",
       "37          num_actv_rev_tl            0.004731\n",
       "38      num_rev_tl_bal_gt_0            0.004719\n",
       "39              open_acc_6m            0.004658\n",
       "40              open_rv_12m            0.004255\n",
       "41           inq_last_6mths            0.003973\n",
       "42              open_il_12m            0.003719\n",
       "43    num_accts_ever_120_pd            0.003424\n",
       "44  verification_status_enc            0.003116\n",
       "45              delinq_2yrs            0.003083\n",
       "46       home_ownership_enc            0.002404\n",
       "47                  pub_rec            0.001943\n",
       "48     pub_rec_bankruptcies            0.001785\n",
       "49  initial_list_status_enc            0.001721\n",
       "50       num_tl_90g_dpd_24m            0.001527\n",
       "51                tax_liens            0.001354"
      ]
     },
     "execution_count": 309,
     "metadata": {},
     "output_type": "execute_result"
    }
   ],
   "source": [
    "feature_importance"
   ]
  },
  {
   "cell_type": "code",
   "execution_count": 319,
   "metadata": {
    "scrolled": true
   },
   "outputs": [
    {
     "data": {
      "image/png": "[encoded data removed]",
      "text/plain": [
       "<Figure size 720x216 with 1 Axes>"
      ]
     },
     "metadata": {},
     "output_type": "display_data"
    }
   ],
   "source": [
    "feature_importance.plot.bar(x='Feature',color='g')\n",
    "plt.rcParams['figure.figsize']=(6,3)"
   ]
  },
  {
   "cell_type": "code",
   "execution_count": 171,
   "metadata": {},
   "outputs": [
    {
     "data": {
      "text/plain": [
       "Profit_Percentage_Inv_Range                      sub_grade_enc\n",
       "Remaining loans                                  10               33108\n",
       "                                                 11               32899\n",
       "                                                 9                28733\n",
       "                                                 12               28033\n",
       "                                                 14               27083\n",
       "                                                 8                26357\n",
       "                                                 13               26275\n",
       "                                                 6                25790\n",
       "                                                 15               25091\n",
       "                                                 7                24943\n",
       "                                                 1                19628\n",
       "                                                 5                19082\n",
       "                                                 4                16524\n",
       "                                                 16               14739\n",
       "                                                 17               13630\n",
       "                                                 2                13623\n",
       "                                                 3                13474\n",
       "                                                 18               11579\n",
       "                                                 19                9417\n",
       "                                                 20                7867\n",
       "                                                 21                5294\n",
       "                                                 22                4563\n",
       "                                                 25                4190\n",
       "                                                 23                4071\n",
       "                                                 24                3717\n",
       "                                                 26                2384\n",
       "                                                 27                1613\n",
       "                                                 28                1368\n",
       "                                                 29                1160\n",
       "                                                 30                1040\n",
       "                                                 31                 809\n",
       "                                                 32                 563\n",
       "                                                 34                 490\n",
       "                                                 33                 485\n",
       "                                                 35                 406\n",
       "The ~5% of loans with highest profit percentage  17                2195\n",
       "                                                 15                2097\n",
       "                                                 16                2064\n",
       "                                                 18                2016\n",
       "                                                 19                1931\n",
       "                                                 20                1637\n",
       "                                                 21                1515\n",
       "                                                 22                1192\n",
       "                                                 23                1143\n",
       "                                                 24                1026\n",
       "                                                 25                 999\n",
       "                                                 14                 857\n",
       "                                                 13                 627\n",
       "                                                 26                 613\n",
       "                                                 12                 423\n",
       "                                                 27                 416\n",
       "                                                 28                 370\n",
       "                                                 29                 316\n",
       "                                                 30                 289\n",
       "                                                 11                 221\n",
       "                                                 31                 199\n",
       "                                                 32                 139\n",
       "                                                 33                 125\n",
       "                                                 35                 100\n",
       "                                                 34                  95\n",
       "                                                 10                  69\n",
       "                                                 9                   12\n",
       "Name: sub_grade_enc, dtype: int64"
      ]
     },
     "execution_count": 171,
     "metadata": {},
     "output_type": "execute_result"
    }
   ],
   "source": [
    "data.groupby('Profit_Percentage_Inv_Range')['sub_grade_enc'].value_counts()"
   ]
  },
  {
   "cell_type": "code",
   "execution_count": null,
   "metadata": {},
   "outputs": [],
   "source": [
    "data.groupby('Profit_Percentage_Inv_Range',)['sub_grade_enc'].value_counts()"
   ]
  },
  {
   "cell_type": "code",
   "execution_count": 213,
   "metadata": {},
   "outputs": [],
   "source": [
    "%matplotlib inline\n",
    "import matplotlib.pyplot as plt\n",
    "import seaborn as sns"
   ]
  },
  {
   "cell_type": "code",
   "execution_count": 214,
   "metadata": {},
   "outputs": [
    {
     "data": {
      "text/plain": [
       "Remaining loans                                    450028\n",
       "The ~5% of loans with highest profit percentage     22686\n",
       "Name: Profit_Percentage_Inv_Range, dtype: int64"
      ]
     },
     "execution_count": 214,
     "metadata": {},
     "output_type": "execute_result"
    }
   ],
   "source": [
    "data['Profit_Percentage_Inv_Range'].value_counts()"
   ]
  },
  {
   "cell_type": "code",
   "execution_count": 239,
   "metadata": {},
   "outputs": [
    {
     "data": {
      "image/png": "[encoded data removed]",
      "text/plain": [
       "<Figure size 432x288 with 1 Axes>"
      ]
     },
     "metadata": {
      "needs_background": "light"
     },
     "output_type": "display_data"
    }
   ],
   "source": [
    "data[data['Profit_Percentage_Inv_Range']=='The ~5% of loans with highest profit percentage']['sub_grade'].value_counts().plot(kind=\"bar\",color='r')\n",
    "plt.xlabel('Subgrade')\n",
    "plt.ylabel('Count')\n",
    "plt.title('Count of the ~5% of loans with highest profit percentage')\n",
    "plt.show()\n"
   ]
  },
  {
   "cell_type": "code",
   "execution_count": 339,
   "metadata": {},
   "outputs": [
    {
     "data": {
      "image/png": "[encoded data removed]",
      "text/plain": [
       "<Figure size 432x216 with 1 Axes>"
      ]
     },
     "metadata": {},
     "output_type": "display_data"
    }
   ],
   "source": [
    "((data[data['Profit_Percentage_Inv_Range']=='The ~5% of loans with highest profit percentage']['sub_grade'].value_counts())/\\\n",
    "22686).plot(kind=\"bar\",color='r')\n",
    "plt.xlabel('Sub-grade')\n",
    "plt.ylabel('Proportion')\n",
    "plt.title('~5% of loans with highest profit percentage')\n",
    "plt.show()"
   ]
  },
  {
   "cell_type": "code",
   "execution_count": 340,
   "metadata": {},
   "outputs": [
    {
     "data": {
      "image/png": "[encoded data removed]",
      "text/plain": [
       "<Figure size 432x216 with 1 Axes>"
      ]
     },
     "metadata": {},
     "output_type": "display_data"
    }
   ],
   "source": [
    "((data[data['Profit_Percentage_Inv_Range']!='The ~5% of loans with highest profit percentage']['sub_grade'].value_counts())\\\n",
    "/450028).plot(kind=\"bar\",color='b')\n",
    "plt.xlabel('Sub-grade')\n",
    "plt.ylabel('Proportion')\n",
    "plt.title('Remaining loans')\n",
    "plt.show()"
   ]
  },
  {
   "cell_type": "code",
   "execution_count": null,
   "metadata": {},
   "outputs": [],
   "source": [
    "int_rate"
   ]
  },
  {
   "cell_type": "code",
   "execution_count": 361,
   "metadata": {},
   "outputs": [
    {
     "data": {
      "text/html": [
       "<div>\n",
       "<style scoped>\n",
       "    .dataframe tbody tr th:only-of-type {\n",
       "        vertical-align: middle;\n",
       "    }\n",
       "\n",
       "    .dataframe tbody tr th {\n",
       "        vertical-align: top;\n",
       "    }\n",
       "\n",
       "    .dataframe thead th {\n",
       "        text-align: right;\n",
       "    }\n",
       "</style>\n",
       "<table border=\"1\" class=\"dataframe\">\n",
       "  <thead>\n",
       "    <tr style=\"text-align: right;\">\n",
       "      <th></th>\n",
       "      <th>int_rate</th>\n",
       "      <th>issue_d</th>\n",
       "    </tr>\n",
       "  </thead>\n",
       "  <tbody>\n",
       "    <tr>\n",
       "      <th>1405219</th>\n",
       "      <td>22.35</td>\n",
       "      <td>Nov-2018</td>\n",
       "    </tr>\n",
       "    <tr>\n",
       "      <th>2033382</th>\n",
       "      <td>21.49</td>\n",
       "      <td>Jul-2016</td>\n",
       "    </tr>\n",
       "    <tr>\n",
       "      <th>2063897</th>\n",
       "      <td>21.45</td>\n",
       "      <td>Dec-2017</td>\n",
       "    </tr>\n",
       "    <tr>\n",
       "      <th>1112626</th>\n",
       "      <td>18.49</td>\n",
       "      <td>Jan-2016</td>\n",
       "    </tr>\n",
       "    <tr>\n",
       "      <th>1954019</th>\n",
       "      <td>21.49</td>\n",
       "      <td>Sep-2016</td>\n",
       "    </tr>\n",
       "    <tr>\n",
       "      <th>556858</th>\n",
       "      <td>21.45</td>\n",
       "      <td>Sep-2017</td>\n",
       "    </tr>\n",
       "    <tr>\n",
       "      <th>687584</th>\n",
       "      <td>19.99</td>\n",
       "      <td>May-2016</td>\n",
       "    </tr>\n",
       "    <tr>\n",
       "      <th>2145972</th>\n",
       "      <td>21.45</td>\n",
       "      <td>Oct-2017</td>\n",
       "    </tr>\n",
       "    <tr>\n",
       "      <th>500216</th>\n",
       "      <td>21.45</td>\n",
       "      <td>Jan-2018</td>\n",
       "    </tr>\n",
       "    <tr>\n",
       "      <th>992287</th>\n",
       "      <td>19.53</td>\n",
       "      <td>Mar-2016</td>\n",
       "    </tr>\n",
       "    <tr>\n",
       "      <th>432843</th>\n",
       "      <td>21.85</td>\n",
       "      <td>Mar-2018</td>\n",
       "    </tr>\n",
       "    <tr>\n",
       "      <th>501092</th>\n",
       "      <td>21.45</td>\n",
       "      <td>Jan-2018</td>\n",
       "    </tr>\n",
       "    <tr>\n",
       "      <th>1948569</th>\n",
       "      <td>21.49</td>\n",
       "      <td>Sep-2016</td>\n",
       "    </tr>\n",
       "    <tr>\n",
       "      <th>1741237</th>\n",
       "      <td>21.49</td>\n",
       "      <td>Jan-2017</td>\n",
       "    </tr>\n",
       "    <tr>\n",
       "      <th>1008259</th>\n",
       "      <td>19.53</td>\n",
       "      <td>Mar-2016</td>\n",
       "    </tr>\n",
       "    <tr>\n",
       "      <th>879251</th>\n",
       "      <td>21.45</td>\n",
       "      <td>Jun-2017</td>\n",
       "    </tr>\n",
       "    <tr>\n",
       "      <th>1967050</th>\n",
       "      <td>21.49</td>\n",
       "      <td>Sep-2016</td>\n",
       "    </tr>\n",
       "    <tr>\n",
       "      <th>1955125</th>\n",
       "      <td>21.49</td>\n",
       "      <td>Sep-2016</td>\n",
       "    </tr>\n",
       "    <tr>\n",
       "      <th>1971144</th>\n",
       "      <td>21.49</td>\n",
       "      <td>Aug-2016</td>\n",
       "    </tr>\n",
       "    <tr>\n",
       "      <th>552421</th>\n",
       "      <td>21.45</td>\n",
       "      <td>Sep-2017</td>\n",
       "    </tr>\n",
       "    <tr>\n",
       "      <th>1567083</th>\n",
       "      <td>21.85</td>\n",
       "      <td>May-2018</td>\n",
       "    </tr>\n",
       "    <tr>\n",
       "      <th>999998</th>\n",
       "      <td>19.53</td>\n",
       "      <td>Mar-2016</td>\n",
       "    </tr>\n",
       "    <tr>\n",
       "      <th>1595223</th>\n",
       "      <td>21.85</td>\n",
       "      <td>Apr-2018</td>\n",
       "    </tr>\n",
       "    <tr>\n",
       "      <th>693858</th>\n",
       "      <td>19.99</td>\n",
       "      <td>May-2016</td>\n",
       "    </tr>\n",
       "    <tr>\n",
       "      <th>1576423</th>\n",
       "      <td>21.85</td>\n",
       "      <td>Apr-2018</td>\n",
       "    </tr>\n",
       "    <tr>\n",
       "      <th>916492</th>\n",
       "      <td>21.45</td>\n",
       "      <td>May-2017</td>\n",
       "    </tr>\n",
       "    <tr>\n",
       "      <th>1106837</th>\n",
       "      <td>18.49</td>\n",
       "      <td>Jan-2016</td>\n",
       "    </tr>\n",
       "    <tr>\n",
       "      <th>1943382</th>\n",
       "      <td>21.49</td>\n",
       "      <td>Sep-2016</td>\n",
       "    </tr>\n",
       "    <tr>\n",
       "      <th>580937</th>\n",
       "      <td>21.45</td>\n",
       "      <td>Aug-2017</td>\n",
       "    </tr>\n",
       "    <tr>\n",
       "      <th>2227874</th>\n",
       "      <td>21.49</td>\n",
       "      <td>Oct-2016</td>\n",
       "    </tr>\n",
       "  </tbody>\n",
       "</table>\n",
       "</div>"
      ],
      "text/plain": [
       "         int_rate   issue_d\n",
       "1405219     22.35  Nov-2018\n",
       "2033382     21.49  Jul-2016\n",
       "2063897     21.45  Dec-2017\n",
       "1112626     18.49  Jan-2016\n",
       "1954019     21.49  Sep-2016\n",
       "556858      21.45  Sep-2017\n",
       "687584      19.99  May-2016\n",
       "2145972     21.45  Oct-2017\n",
       "500216      21.45  Jan-2018\n",
       "992287      19.53  Mar-2016\n",
       "432843      21.85  Mar-2018\n",
       "501092      21.45  Jan-2018\n",
       "1948569     21.49  Sep-2016\n",
       "1741237     21.49  Jan-2017\n",
       "1008259     19.53  Mar-2016\n",
       "879251      21.45  Jun-2017\n",
       "1967050     21.49  Sep-2016\n",
       "1955125     21.49  Sep-2016\n",
       "1971144     21.49  Aug-2016\n",
       "552421      21.45  Sep-2017\n",
       "1567083     21.85  May-2018\n",
       "999998      19.53  Mar-2016\n",
       "1595223     21.85  Apr-2018\n",
       "693858      19.99  May-2016\n",
       "1576423     21.85  Apr-2018\n",
       "916492      21.45  May-2017\n",
       "1106837     18.49  Jan-2016\n",
       "1943382     21.49  Sep-2016\n",
       "580937      21.45  Aug-2017\n",
       "2227874     21.49  Oct-2016"
      ]
     },
     "execution_count": 361,
     "metadata": {},
     "output_type": "execute_result"
    }
   ],
   "source": [
    "data[data['sub_grade']=='D5'][['int_rate','issue_d']].sample(30)"
   ]
  },
  {
   "cell_type": "code",
   "execution_count": 344,
   "metadata": {},
   "outputs": [
    {
     "data": {
      "image/png": "[encoded data removed]",
      "text/plain": [
       "<Figure size 432x216 with 1 Axes>"
      ]
     },
     "metadata": {},
     "output_type": "display_data"
    }
   ],
   "source": [
    "sns.set(style=\"whitegrid\")\n",
    "ax = sns.boxplot(x=\"Profit_Percentage_Inv_Range\", y=\"int_rate\", order=['The ~5% of loans with highest profit percentage','Remaining loans'], data=data,palette=\"Set1\")"
   ]
  },
  {
   "cell_type": "code",
   "execution_count": 278,
   "metadata": {},
   "outputs": [
    {
     "data": {
      "text/plain": [
       "<matplotlib.axes._subplots.AxesSubplot at 0x7ff0a20cba90>"
      ]
     },
     "execution_count": 278,
     "metadata": {},
     "output_type": "execute_result"
    },
    {
     "data": {
      "image/png": "[encoded data removed]",
      "text/plain": [
       "<Figure size 432x288 with 1 Axes>"
      ]
     },
     "metadata": {},
     "output_type": "display_data"
    }
   ],
   "source": [
    "sns.distplot(data[data['Profit_Percentage_Inv_Range']=='The ~5% of loans with highest profit percentage']['int_rate'])\n"
   ]
  },
  {
   "cell_type": "code",
   "execution_count": 245,
   "metadata": {},
   "outputs": [
    {
     "data": {
      "text/plain": [
       "count    22686.000000\n",
       "mean        19.868409\n",
       "std          4.346390\n",
       "min          6.000000\n",
       "25%         16.590000\n",
       "50%         18.990000\n",
       "75%         22.450000\n",
       "max         30.990000\n",
       "Name: int_rate, dtype: float64"
      ]
     },
     "execution_count": 245,
     "metadata": {},
     "output_type": "execute_result"
    }
   ],
   "source": [
    "data[data['Profit_Percentage_Inv_Range']=='The ~5% of loans with highest profit percentage']['int_rate'].describe()\n",
    "\n"
   ]
  },
  {
   "cell_type": "code",
   "execution_count": 246,
   "metadata": {},
   "outputs": [
    {
     "data": {
      "text/plain": [
       "count    450028.000000\n",
       "mean         12.948470\n",
       "std           5.043347\n",
       "min           5.310000\n",
       "25%           9.440000\n",
       "50%          11.990000\n",
       "75%          15.310000\n",
       "max          30.990000\n",
       "Name: int_rate, dtype: float64"
      ]
     },
     "execution_count": 246,
     "metadata": {},
     "output_type": "execute_result"
    }
   ],
   "source": [
    "data[data['Profit_Percentage_Inv_Range']!='The ~5% of loans with highest profit percentage']['int_rate'].describe()\n"
   ]
  },
  {
   "cell_type": "code",
   "execution_count": 233,
   "metadata": {},
   "outputs": [
    {
     "data": {
      "text/plain": [
       " 60 months    11631\n",
       " 36 months    11055\n",
       "Name: term, dtype: int64"
      ]
     },
     "execution_count": 233,
     "metadata": {},
     "output_type": "execute_result"
    }
   ],
   "source": [
    "data[data['Profit_Percentage_Inv_Range']=='The ~5% of loans with highest profit percentage'].term.value_counts()"
   ]
  },
  {
   "cell_type": "code",
   "execution_count": 234,
   "metadata": {},
   "outputs": [
    {
     "data": {
      "text/plain": [
       " 36 months    357234\n",
       " 60 months     92794\n",
       "Name: term, dtype: int64"
      ]
     },
     "execution_count": 234,
     "metadata": {},
     "output_type": "execute_result"
    }
   ],
   "source": [
    "data[data['Profit_Percentage_Inv_Range']!='The ~5% of loans with highest profit percentage'].term.value_counts()"
   ]
  },
  {
   "cell_type": "code",
   "execution_count": 257,
   "metadata": {},
   "outputs": [
    {
     "data": {
      "text/html": [
       "<div>\n",
       "<style scoped>\n",
       "    .dataframe tbody tr th:only-of-type {\n",
       "        vertical-align: middle;\n",
       "    }\n",
       "\n",
       "    .dataframe tbody tr th {\n",
       "        vertical-align: top;\n",
       "    }\n",
       "\n",
       "    .dataframe thead th {\n",
       "        text-align: right;\n",
       "    }\n",
       "</style>\n",
       "<table border=\"1\" class=\"dataframe\">\n",
       "  <thead>\n",
       "    <tr style=\"text-align: right;\">\n",
       "      <th></th>\n",
       "      <th>60 months</th>\n",
       "      <th>36 months</th>\n",
       "    </tr>\n",
       "  </thead>\n",
       "  <tbody>\n",
       "    <tr>\n",
       "      <th>Remaining loans</th>\n",
       "      <td>0.206196</td>\n",
       "      <td>0.793804</td>\n",
       "    </tr>\n",
       "    <tr>\n",
       "      <th>The ~5% of loans with \\n highest profit percentage</th>\n",
       "      <td>0.512695</td>\n",
       "      <td>0.487305</td>\n",
       "    </tr>\n",
       "  </tbody>\n",
       "</table>\n",
       "</div>"
      ],
      "text/plain": [
       "                                                    60 months  36 months\n",
       "Remaining loans                                      0.206196   0.793804\n",
       "The ~5% of loans with \\n highest profit percentage   0.512695   0.487305"
      ]
     },
     "execution_count": 257,
     "metadata": {},
     "output_type": "execute_result"
    }
   ],
   "source": [
    "plotdata = pd.DataFrame({\n",
    "    \"60 months\":[92794/(92794+357234),11631/(11631+11055)],\n",
    "    \"36 months\":[357234/(92794+357234),11055/(11631+11055)],\n",
    "    }, index=[\"Remaining loans\", \"The ~5% of loans with \\n highest profit percentage\"]\n",
    ")\n",
    "plotdata.head()"
   ]
  },
  {
   "cell_type": "code",
   "execution_count": 346,
   "metadata": {},
   "outputs": [
    {
     "data": {
      "text/plain": [
       "(array([0, 1]), <a list of 2 Text major ticklabel objects>)"
      ]
     },
     "execution_count": 346,
     "metadata": {},
     "output_type": "execute_result"
    },
    {
     "data": {
      "image/png": "[encoded data removed]",
      "text/plain": [
       "<Figure size 432x216 with 1 Axes>"
      ]
     },
     "metadata": {},
     "output_type": "display_data"
    }
   ],
   "source": [
    "plotdata.plot(kind='bar',stacked='true')\n",
    "plt.xticks(\n",
    "    rotation=0)"
   ]
  },
  {
   "cell_type": "code",
   "execution_count": 272,
   "metadata": {},
   "outputs": [
    {
     "data": {
      "text/plain": [
       "Profit_Percentage_Inv_Range\n",
       "Remaining loans                                    178.884389\n",
       "The ~5% of loans with highest profit percentage    168.846690\n",
       "Name: mo_sin_old_rev_tl_op, dtype: float64"
      ]
     },
     "execution_count": 272,
     "metadata": {},
     "output_type": "execute_result"
    }
   ],
   "source": [
    "data.groupby('Profit_Percentage_Inv_Range')['mo_sin_old_rev_tl_op'].mean()"
   ]
  },
  {
   "cell_type": "code",
   "execution_count": 273,
   "metadata": {},
   "outputs": [
    {
     "data": {
      "text/plain": [
       "Profit_Percentage_Inv_Range\n",
       "Remaining loans                                    17.864179\n",
       "The ~5% of loans with highest profit percentage    21.153101\n",
       "Name: dti, dtype: float64"
      ]
     },
     "execution_count": 273,
     "metadata": {},
     "output_type": "execute_result"
    }
   ],
   "source": [
    "data.groupby('Profit_Percentage_Inv_Range')['dti'].mean()"
   ]
  },
  {
   "cell_type": "code",
   "execution_count": 274,
   "metadata": {},
   "outputs": [
    {
     "data": {
      "text/plain": [
       "733212     15.27\n",
       "550528     33.98\n",
       "1965386    34.35\n",
       "2190131    24.84\n",
       "1729649    19.43\n",
       "Name: dti, dtype: float64"
      ]
     },
     "execution_count": 274,
     "metadata": {},
     "output_type": "execute_result"
    }
   ],
   "source": [
    "data['dti'].sample(5)"
   ]
  },
  {
   "cell_type": "code",
   "execution_count": null,
   "metadata": {},
   "outputs": [],
   "source": []
  }
 ],
 "metadata": {
  "kernelspec": {
   "display_name": "Python 3",
   "language": "python",
   "name": "python3"
  },
  "language_info": {
   "codemirror_mode": {
    "name": "ipython",
    "version": 3
   },
   "file_extension": ".py",
   "mimetype": "text/x-python",
   "name": "python",
   "nbconvert_exporter": "python",
   "pygments_lexer": "ipython3",
   "version": "3.8.3"
  }
 },
 "nbformat": 4,
 "nbformat_minor": 4
}
