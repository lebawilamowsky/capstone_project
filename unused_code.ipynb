{
 "cells": [
  {
   "cell_type": "code",
   "execution_count": null,
   "metadata": {},
   "outputs": [],
   "source": [
    "# def t(df):\n",
    "#     if df['Profit_Percentage_Inv'] < 20:\n",
    "#         val = 'Remaining loans'\n",
    "#     else:\n",
    "#         val = 'The ~10% of loans with highest profit percentage'\n",
    "#     return val"
   ]
  },
  {
   "cell_type": "code",
   "execution_count": null,
   "metadata": {},
   "outputs": [],
   "source": [
    "# data['Profit_Percentage_Inv_Range_tt']= data.apply(t, axis=1)"
   ]
  },
  {
   "cell_type": "code",
   "execution_count": null,
   "metadata": {},
   "outputs": [],
   "source": [
    "# def p(df):\n",
    "#     if df['Profit_Percentage_Inv'] > 0:\n",
    "#         val = 'Positive Profit Percentage'\n",
    "#     else:\n",
    "#         val = 'Zero or Negative Profit Percentage'\n",
    "#     return val"
   ]
  },
  {
   "cell_type": "code",
   "execution_count": null,
   "metadata": {},
   "outputs": [],
   "source": [
    "# data['Profit_Percentage_Inv_Range_pvn']= data.apply(p, axis=1)"
   ]
  },
  {
   "cell_type": "code",
   "execution_count": null,
   "metadata": {},
   "outputs": [],
   "source": [
    "#def g(df):\n",
    "#     if df['Profit_Percentage_Inv'] < 0:\n",
    "#         val= '-100% to 1%'\n",
    "#     elif df['Profit_Percentage_Inv'] < 25:\n",
    "#         val = '0% to 24%'\n",
    "#     else:\n",
    "#         val = 'greater than 24%'\n",
    "#     return val"
   ]
  },
  {
   "cell_type": "code",
   "execution_count": null,
   "metadata": {},
   "outputs": [],
   "source": [
    "# data['Profit_Percentage_Inv_Range_3split']= data.apply(g, axis=1)"
   ]
  },
  {
   "cell_type": "code",
   "execution_count": null,
   "metadata": {},
   "outputs": [],
   "source": [
    "# data['Profit_Percentage_Inv_Range_3split'].value_counts()"
   ]
  },
  {
   "cell_type": "code",
   "execution_count": null,
   "metadata": {},
   "outputs": [],
   "source": [
    "#from sklearn import ensemble\n",
    "#randomForest = ensemble.RandomForestClassifier()"
   ]
  },
  {
   "cell_type": "code",
   "execution_count": null,
   "metadata": {},
   "outputs": [],
   "source": [
    "#randomForest.set_params(class_weight='balanced')"
   ]
  },
  {
   "cell_type": "code",
   "execution_count": null,
   "metadata": {},
   "outputs": [],
   "source": [
    "# from sklearn.model_selection import RandomizedSearchCV\n",
    "# from sklearn.model_selection import KFold\n",
    "# kf=KFold(n_splits=3, shuffle=True)\n",
    "# #grid_para_forest = {\n",
    "# #    'criterion': ['gini', 'entropy'],\n",
    "# #    'max_depth': np.linspace(5, 50, 10),\n",
    "# #    'n_estimators': [900,1200],\n",
    "# #    'min_samples_split':[2,5,7,9],\n",
    "# #    'min_samples_leaf' :[1,3,5,7]\n",
    "# #}"
   ]
  },
  {
   "cell_type": "code",
   "execution_count": null,
   "metadata": {},
   "outputs": [],
   "source": [
    "#randomized_search_forest = RandomizedSearchCV(randomForest, grid_para_forest, cv=kf, n_jobs=-1)\n",
    "#randomized_search_forest.fit(xtrain, ytrain.values.ravel())"
   ]
  },
  {
   "cell_type": "code",
   "execution_count": null,
   "metadata": {},
   "outputs": [],
   "source": [
    "#randomized_search_forest.best_params_"
   ]
  },
  {
   "cell_type": "code",
   "execution_count": null,
   "metadata": {},
   "outputs": [],
   "source": [
    "#randomized_search_forest.best_estimator_.score(xtrain,ytrain)"
   ]
  },
  {
   "cell_type": "code",
   "execution_count": null,
   "metadata": {},
   "outputs": [],
   "source": [
    "#randomized_search_forest.best_estimator_.score(xtest,ytest)"
   ]
  },
  {
   "cell_type": "code",
   "execution_count": null,
   "metadata": {},
   "outputs": [],
   "source": [
    "# randomForest.set_params(class_weight='balanced',criterion= 'entropy',max_depth=35,\n",
    "#                         n_estimators=500,min_samples_split=7,min_samples_leaf=5)"
   ]
  },
  {
   "cell_type": "code",
   "execution_count": null,
   "metadata": {},
   "outputs": [],
   "source": [
    "# randomForest.fit(xtrain, ytrain.values.ravel())"
   ]
  },
  {
   "cell_type": "code",
   "execution_count": null,
   "metadata": {},
   "outputs": [],
   "source": [
    "#randomForest.score(xtrain,ytrain)\n",
    "#score .999"
   ]
  },
  {
   "cell_type": "code",
   "execution_count": null,
   "metadata": {},
   "outputs": [],
   "source": [
    "#randomForest.score(xtest,ytest)\n",
    "#score .949"
   ]
  },
  {
   "cell_type": "code",
   "execution_count": null,
   "metadata": {},
   "outputs": [],
   "source": [
    "#pd.crosstab(ytest.squeeze(), randomForest.predict(xtest), rownames=['True'], margins=True)\n",
    "#Remaining loans\t133903\t1143\t135046\n",
    "#The ~5% of loans with highest profit percentage\t6155\t614\t6769\n",
    "#All\t140058\t1757\t141815"
   ]
  },
  {
   "cell_type": "code",
   "execution_count": null,
   "metadata": {},
   "outputs": [],
   "source": [
    "#targett=data[['Profit_Percentage_Inv_Range_tt']]"
   ]
  },
  {
   "cell_type": "code",
   "execution_count": null,
   "metadata": {},
   "outputs": [],
   "source": [
    "#xtraint, xtestt, ytraint, ytestt = train_test_split(features, targett, test_size=0.3, \n",
    "#                                                    random_state=42)"
   ]
  },
  {
   "cell_type": "code",
   "execution_count": null,
   "metadata": {},
   "outputs": [],
   "source": [
    "#top 10%\n",
    "#bbctt=BalancedBaggingClassifier(n_estimators=700,n_jobs=-1)"
   ]
  },
  {
   "cell_type": "code",
   "execution_count": null,
   "metadata": {},
   "outputs": [],
   "source": [
    "#bbctt.fit(xtraint, ytraint.values.ravel())"
   ]
  },
  {
   "cell_type": "code",
   "execution_count": null,
   "metadata": {},
   "outputs": [],
   "source": [
    "#bbctt.score(xtraint, ytraint.values.ravel())\n",
    "#.814"
   ]
  },
  {
   "cell_type": "code",
   "execution_count": null,
   "metadata": {},
   "outputs": [],
   "source": [
    "#bbctt.score(xtestt, ytestt.values.ravel())"
   ]
  },
  {
   "cell_type": "code",
   "execution_count": null,
   "metadata": {},
   "outputs": [],
   "source": [
    "#pd.crosstab(ytestt.squeeze(), bbctt.predict(xtestt), rownames=['True'], colnames=['Predicted'], margins=True)"
   ]
  },
  {
   "cell_type": "code",
   "execution_count": null,
   "metadata": {},
   "outputs": [],
   "source": [
    "#targetpvn=data[['Profit_Percentage_Inv_Range_pvn']]"
   ]
  },
  {
   "cell_type": "code",
   "execution_count": null,
   "metadata": {},
   "outputs": [],
   "source": [
    "#xtrainp, xtestp, ytrainp, ytestp = train_test_split(features, targetpvn, test_size=0.3, \n",
    "#                                                   random_state=42)"
   ]
  },
  {
   "cell_type": "code",
   "execution_count": null,
   "metadata": {},
   "outputs": [],
   "source": [
    "#bbcp=BalancedBaggingClassifier(n_estimators=700,n_jobs=-1)"
   ]
  },
  {
   "cell_type": "code",
   "execution_count": null,
   "metadata": {},
   "outputs": [],
   "source": [
    "#bbcp.fit(xtrainp, ytrainp.values.ravel())"
   ]
  },
  {
   "cell_type": "code",
   "execution_count": null,
   "metadata": {},
   "outputs": [],
   "source": [
    "#bbcp.score(xtrainp, ytrainp.values.ravel())\n",
    "#score .979"
   ]
  },
  {
   "cell_type": "code",
   "execution_count": null,
   "metadata": {},
   "outputs": [],
   "source": [
    "#bbcp.score(xtestp, ytestp.values.ravel())\n",
    "#score .713"
   ]
  },
  {
   "cell_type": "code",
   "execution_count": null,
   "metadata": {},
   "outputs": [],
   "source": [
    "#pd.crosstab(ytestp.squeeze(), bbcp.predict(xtestp), rownames=['True'], colnames=['Predicted'], margins=True)\n",
    "\n",
    "#Positive Profit Percentage\t85165\t22709\t107874\n",
    "#Zero or Negative Profit Percentage\t17971\t15970\t33941\n",
    "#All\t103136\t38679\t141815"
   ]
  },
  {
   "cell_type": "code",
   "execution_count": null,
   "metadata": {},
   "outputs": [],
   "source": []
  },
  {
   "cell_type": "code",
   "execution_count": null,
   "metadata": {},
   "outputs": [],
   "source": []
  },
  {
   "cell_type": "code",
   "execution_count": null,
   "metadata": {},
   "outputs": [],
   "source": []
  },
  {
   "cell_type": "code",
   "execution_count": null,
   "metadata": {},
   "outputs": [],
   "source": []
  }
 ],
 "metadata": {
  "kernelspec": {
   "display_name": "Python 3",
   "language": "python",
   "name": "python3"
  },
  "language_info": {
   "codemirror_mode": {
    "name": "ipython",
    "version": 3
   },
   "file_extension": ".py",
   "mimetype": "text/x-python",
   "name": "python",
   "nbconvert_exporter": "python",
   "pygments_lexer": "ipython3",
   "version": "3.8.3"
  }
 },
 "nbformat": 4,
 "nbformat_minor": 4
}
